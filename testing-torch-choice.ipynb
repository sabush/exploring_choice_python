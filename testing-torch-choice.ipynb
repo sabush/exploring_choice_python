{
 "cells": [
  {
   "cell_type": "markdown",
   "metadata": {},
   "source": [
    "# Testing Torch Choice Package\n",
    "\n",
    "The purpose of this notebook is to test out the capabilities of the torch-choice package in python. The first section will try the vignette and then some new data will be used.\n",
    "\n",
    "## Vignette\n"
   ]
  },
  {
   "cell_type": "markdown",
   "metadata": {},
   "source": [
    "Install required packages"
   ]
  },
  {
   "cell_type": "code",
   "execution_count": 7,
   "metadata": {},
   "outputs": [],
   "source": [
    "import pandas as pd\n",
    "import numpy as np\n",
    "from torch_choice.utils.easy_data_wrapper import EasyDatasetWrapper\n",
    "from skimpy import skim"
   ]
  },
  {
   "cell_type": "code",
   "execution_count": 3,
   "metadata": {},
   "outputs": [],
   "source": [
    "car_choice = pd.read_csv(\"https://raw.githubusercontent.com/gsbDBI/torch-choice/main/tutorials/public_datasets/car_choice.csv\")"
   ]
  },
  {
   "cell_type": "markdown",
   "metadata": {},
   "source": [
    "Display the data"
   ]
  },
  {
   "cell_type": "code",
   "execution_count": 5,
   "metadata": {},
   "outputs": [
    {
     "data": {
      "text/html": [
       "<div>\n",
       "<style scoped>\n",
       "    .dataframe tbody tr th:only-of-type {\n",
       "        vertical-align: middle;\n",
       "    }\n",
       "\n",
       "    .dataframe tbody tr th {\n",
       "        vertical-align: top;\n",
       "    }\n",
       "\n",
       "    .dataframe thead th {\n",
       "        text-align: right;\n",
       "    }\n",
       "</style>\n",
       "<table border=\"1\" class=\"dataframe\">\n",
       "  <thead>\n",
       "    <tr style=\"text-align: right;\">\n",
       "      <th></th>\n",
       "      <th>record_id</th>\n",
       "      <th>session_id</th>\n",
       "      <th>consumer_id</th>\n",
       "      <th>car</th>\n",
       "      <th>purchase</th>\n",
       "      <th>gender</th>\n",
       "      <th>income</th>\n",
       "      <th>speed</th>\n",
       "      <th>discount</th>\n",
       "      <th>price</th>\n",
       "    </tr>\n",
       "  </thead>\n",
       "  <tbody>\n",
       "    <tr>\n",
       "      <th>0</th>\n",
       "      <td>1</td>\n",
       "      <td>1</td>\n",
       "      <td>1</td>\n",
       "      <td>American</td>\n",
       "      <td>1</td>\n",
       "      <td>1</td>\n",
       "      <td>46.699997</td>\n",
       "      <td>10</td>\n",
       "      <td>0.94</td>\n",
       "      <td>90</td>\n",
       "    </tr>\n",
       "    <tr>\n",
       "      <th>1</th>\n",
       "      <td>1</td>\n",
       "      <td>1</td>\n",
       "      <td>1</td>\n",
       "      <td>Japanese</td>\n",
       "      <td>0</td>\n",
       "      <td>1</td>\n",
       "      <td>46.699997</td>\n",
       "      <td>8</td>\n",
       "      <td>0.94</td>\n",
       "      <td>110</td>\n",
       "    </tr>\n",
       "    <tr>\n",
       "      <th>2</th>\n",
       "      <td>1</td>\n",
       "      <td>1</td>\n",
       "      <td>1</td>\n",
       "      <td>European</td>\n",
       "      <td>0</td>\n",
       "      <td>1</td>\n",
       "      <td>46.699997</td>\n",
       "      <td>7</td>\n",
       "      <td>0.94</td>\n",
       "      <td>50</td>\n",
       "    </tr>\n",
       "    <tr>\n",
       "      <th>3</th>\n",
       "      <td>1</td>\n",
       "      <td>1</td>\n",
       "      <td>1</td>\n",
       "      <td>Korean</td>\n",
       "      <td>0</td>\n",
       "      <td>1</td>\n",
       "      <td>46.699997</td>\n",
       "      <td>8</td>\n",
       "      <td>0.94</td>\n",
       "      <td>10</td>\n",
       "    </tr>\n",
       "    <tr>\n",
       "      <th>4</th>\n",
       "      <td>2</td>\n",
       "      <td>2</td>\n",
       "      <td>2</td>\n",
       "      <td>American</td>\n",
       "      <td>1</td>\n",
       "      <td>1</td>\n",
       "      <td>26.100000</td>\n",
       "      <td>10</td>\n",
       "      <td>0.95</td>\n",
       "      <td>100</td>\n",
       "    </tr>\n",
       "  </tbody>\n",
       "</table>\n",
       "</div>"
      ],
      "text/plain": [
       "   record_id  session_id  consumer_id       car  purchase  gender     income  \\\n",
       "0          1           1            1  American         1       1  46.699997   \n",
       "1          1           1            1  Japanese         0       1  46.699997   \n",
       "2          1           1            1  European         0       1  46.699997   \n",
       "3          1           1            1    Korean         0       1  46.699997   \n",
       "4          2           2            2  American         1       1  26.100000   \n",
       "\n",
       "   speed  discount  price  \n",
       "0     10      0.94     90  \n",
       "1      8      0.94    110  \n",
       "2      7      0.94     50  \n",
       "3      8      0.94     10  \n",
       "4     10      0.95    100  "
      ]
     },
     "metadata": {},
     "output_type": "display_data"
    }
   ],
   "source": [
    "display(car_choice.head())"
   ]
  },
  {
   "cell_type": "markdown",
   "metadata": {},
   "source": [
    "Quickly summarise the dataset"
   ]
  },
  {
   "cell_type": "code",
   "execution_count": 8,
   "metadata": {},
   "outputs": [
    {
     "data": {
      "text/html": [
       "<pre style=\"white-space:pre;overflow-x:auto;line-height:normal;font-family:Menlo,'DejaVu Sans Mono',consolas,'Courier New',monospace\">╭──────────────────────────────────────────────── skimpy summary ─────────────────────────────────────────────────╮\n",
       "│ <span style=\"font-style: italic\">         Data Summary         </span> <span style=\"font-style: italic\">      Data Types       </span>                                                          │\n",
       "│ ┏━━━━━━━━━━━━━━━━━━━┳━━━━━━━━┓ ┏━━━━━━━━━━━━━┳━━━━━━━┓                                                          │\n",
       "│ ┃<span style=\"color: #008080; text-decoration-color: #008080; font-weight: bold\"> dataframe         </span>┃<span style=\"color: #008080; text-decoration-color: #008080; font-weight: bold\"> Values </span>┃ ┃<span style=\"color: #008080; text-decoration-color: #008080; font-weight: bold\"> Column Type </span>┃<span style=\"color: #008080; text-decoration-color: #008080; font-weight: bold\"> Count </span>┃                                                          │\n",
       "│ ┡━━━━━━━━━━━━━━━━━━━╇━━━━━━━━┩ ┡━━━━━━━━━━━━━╇━━━━━━━┩                                                          │\n",
       "│ │ Number of rows    │ 3160   │ │ int32       │ 7     │                                                          │\n",
       "│ │ Number of columns │ 10     │ │ float64     │ 2     │                                                          │\n",
       "│ └───────────────────┴────────┘ │ string      │ 1     │                                                          │\n",
       "│                                └─────────────┴───────┘                                                          │\n",
       "│ <span style=\"font-style: italic\">                                                    number                                                    </span>  │\n",
       "│ ┏━━━━━━━━━━━━━━━━━┳━━━━━┳━━━━━━━━┳━━━━━━━━━━┳━━━━━━━━━━━━┳━━━━━━━━┳━━━━━━━━┳━━━━━━━┳━━━━━━━┳━━━━━━━┳━━━━━━━━━┓  │\n",
       "│ ┃<span style=\"font-weight: bold\"> column_name     </span>┃<span style=\"font-weight: bold\"> NA  </span>┃<span style=\"font-weight: bold\"> NA %   </span>┃<span style=\"font-weight: bold\"> mean     </span>┃<span style=\"font-weight: bold\"> sd         </span>┃<span style=\"font-weight: bold\"> p0     </span>┃<span style=\"font-weight: bold\"> p25    </span>┃<span style=\"font-weight: bold\"> p50   </span>┃<span style=\"font-weight: bold\"> p75   </span>┃<span style=\"font-weight: bold\"> p100  </span>┃<span style=\"font-weight: bold\"> hist    </span>┃  │\n",
       "│ ┡━━━━━━━━━━━━━━━━━╇━━━━━╇━━━━━━━━╇━━━━━━━━━━╇━━━━━━━━━━━━╇━━━━━━━━╇━━━━━━━━╇━━━━━━━╇━━━━━━━╇━━━━━━━╇━━━━━━━━━┩  │\n",
       "│ │ <span style=\"color: #af87ff; text-decoration-color: #af87ff\">record_id      </span> │ <span style=\"color: #008080; text-decoration-color: #008080\">  0</span> │ <span style=\"color: #008080; text-decoration-color: #008080\">     0</span> │ <span style=\"color: #008080; text-decoration-color: #008080\">   443.6</span> │ <span style=\"color: #008080; text-decoration-color: #008080\">       256</span> │ <span style=\"color: #008080; text-decoration-color: #008080\">     1</span> │ <span style=\"color: #008080; text-decoration-color: #008080\">   222</span> │ <span style=\"color: #008080; text-decoration-color: #008080\">  444</span> │ <span style=\"color: #008080; text-decoration-color: #008080\">  664</span> │ <span style=\"color: #008080; text-decoration-color: #008080\">  885</span> │ <span style=\"color: #008000; text-decoration-color: #008000\">▇▇▇▇▇▇ </span> │  │\n",
       "│ │ <span style=\"color: #af87ff; text-decoration-color: #af87ff\">session_id     </span> │ <span style=\"color: #008080; text-decoration-color: #008080\">  0</span> │ <span style=\"color: #008080; text-decoration-color: #008080\">     0</span> │ <span style=\"color: #008080; text-decoration-color: #008080\">   443.6</span> │ <span style=\"color: #008080; text-decoration-color: #008080\">       256</span> │ <span style=\"color: #008080; text-decoration-color: #008080\">     1</span> │ <span style=\"color: #008080; text-decoration-color: #008080\">   222</span> │ <span style=\"color: #008080; text-decoration-color: #008080\">  444</span> │ <span style=\"color: #008080; text-decoration-color: #008080\">  664</span> │ <span style=\"color: #008080; text-decoration-color: #008080\">  885</span> │ <span style=\"color: #008000; text-decoration-color: #008000\">▇▇▇▇▇▇ </span> │  │\n",
       "│ │ <span style=\"color: #af87ff; text-decoration-color: #af87ff\">consumer_id    </span> │ <span style=\"color: #008080; text-decoration-color: #008080\">  0</span> │ <span style=\"color: #008080; text-decoration-color: #008080\">     0</span> │ <span style=\"color: #008080; text-decoration-color: #008080\">   443.6</span> │ <span style=\"color: #008080; text-decoration-color: #008080\">       256</span> │ <span style=\"color: #008080; text-decoration-color: #008080\">     1</span> │ <span style=\"color: #008080; text-decoration-color: #008080\">   222</span> │ <span style=\"color: #008080; text-decoration-color: #008080\">  444</span> │ <span style=\"color: #008080; text-decoration-color: #008080\">  664</span> │ <span style=\"color: #008080; text-decoration-color: #008080\">  885</span> │ <span style=\"color: #008000; text-decoration-color: #008000\">▇▇▇▇▇▇ </span> │  │\n",
       "│ │ <span style=\"color: #af87ff; text-decoration-color: #af87ff\">purchase       </span> │ <span style=\"color: #008080; text-decoration-color: #008080\">  0</span> │ <span style=\"color: #008080; text-decoration-color: #008080\">     0</span> │ <span style=\"color: #008080; text-decoration-color: #008080\">  0.2801</span> │ <span style=\"color: #008080; text-decoration-color: #008080\">    0.4491</span> │ <span style=\"color: #008080; text-decoration-color: #008080\">     0</span> │ <span style=\"color: #008080; text-decoration-color: #008080\">     0</span> │ <span style=\"color: #008080; text-decoration-color: #008080\">    0</span> │ <span style=\"color: #008080; text-decoration-color: #008080\">    1</span> │ <span style=\"color: #008080; text-decoration-color: #008080\">    1</span> │ <span style=\"color: #008000; text-decoration-color: #008000\">▇    ▃ </span> │  │\n",
       "│ │ <span style=\"color: #af87ff; text-decoration-color: #af87ff\">gender         </span> │ <span style=\"color: #008080; text-decoration-color: #008080\">  0</span> │ <span style=\"color: #008080; text-decoration-color: #008080\">     0</span> │ <span style=\"color: #008080; text-decoration-color: #008080\">  0.7225</span> │ <span style=\"color: #008080; text-decoration-color: #008080\">    0.4479</span> │ <span style=\"color: #008080; text-decoration-color: #008080\">     0</span> │ <span style=\"color: #008080; text-decoration-color: #008080\">     0</span> │ <span style=\"color: #008080; text-decoration-color: #008080\">    1</span> │ <span style=\"color: #008080; text-decoration-color: #008080\">    1</span> │ <span style=\"color: #008080; text-decoration-color: #008080\">    1</span> │ <span style=\"color: #008000; text-decoration-color: #008000\">▃    ▇ </span> │  │\n",
       "│ │ <span style=\"color: #af87ff; text-decoration-color: #af87ff\">income         </span> │ <span style=\"color: #008080; text-decoration-color: #008080\"> 23</span> │ <span style=\"color: #008080; text-decoration-color: #008080\">  0.73</span> │ <span style=\"color: #008080; text-decoration-color: #008080\">    42.1</span> │ <span style=\"color: #008080; text-decoration-color: #008080\">     12.44</span> │ <span style=\"color: #008080; text-decoration-color: #008080\">  20.3</span> │ <span style=\"color: #008080; text-decoration-color: #008080\">    33</span> │ <span style=\"color: #008080; text-decoration-color: #008080\"> 43.3</span> │ <span style=\"color: #008080; text-decoration-color: #008080\"> 46.7</span> │ <span style=\"color: #008080; text-decoration-color: #008080\"> 69.8</span> │ <span style=\"color: #008000; text-decoration-color: #008000\">▅▂▇▆▁▂ </span> │  │\n",
       "│ │ <span style=\"color: #af87ff; text-decoration-color: #af87ff\">speed          </span> │ <span style=\"color: #008080; text-decoration-color: #008080\">  0</span> │ <span style=\"color: #008080; text-decoration-color: #008080\">     0</span> │ <span style=\"color: #008080; text-decoration-color: #008080\">    8.28</span> │ <span style=\"color: #008080; text-decoration-color: #008080\">      1.15</span> │ <span style=\"color: #008080; text-decoration-color: #008080\">     7</span> │ <span style=\"color: #008080; text-decoration-color: #008080\">     7</span> │ <span style=\"color: #008080; text-decoration-color: #008080\">    8</span> │ <span style=\"color: #008080; text-decoration-color: #008080\">   10</span> │ <span style=\"color: #008080; text-decoration-color: #008080\">   10</span> │ <span style=\"color: #008000; text-decoration-color: #008000\">▅ ▇  ▅ </span> │  │\n",
       "│ │ <span style=\"color: #af87ff; text-decoration-color: #af87ff\">discount       </span> │ <span style=\"color: #008080; text-decoration-color: #008080\">  0</span> │ <span style=\"color: #008080; text-decoration-color: #008080\">     0</span> │ <span style=\"color: #008080; text-decoration-color: #008080\">  0.8988</span> │ <span style=\"color: #008080; text-decoration-color: #008080\">   0.05707</span> │ <span style=\"color: #008080; text-decoration-color: #008080\">   0.8</span> │ <span style=\"color: #008080; text-decoration-color: #008080\">  0.85</span> │ <span style=\"color: #008080; text-decoration-color: #008080\">  0.9</span> │ <span style=\"color: #008080; text-decoration-color: #008080\"> 0.95</span> │ <span style=\"color: #008080; text-decoration-color: #008080\">    1</span> │ <span style=\"color: #008000; text-decoration-color: #008000\">▇▆▇▇▅▇ </span> │  │\n",
       "│ │ <span style=\"color: #af87ff; text-decoration-color: #af87ff\">price          </span> │ <span style=\"color: #008080; text-decoration-color: #008080\">  0</span> │ <span style=\"color: #008080; text-decoration-color: #008080\">     0</span> │ <span style=\"color: #008080; text-decoration-color: #008080\">   50.95</span> │ <span style=\"color: #008080; text-decoration-color: #008080\">     33.06</span> │ <span style=\"color: #008080; text-decoration-color: #008080\">  -126</span> │ <span style=\"color: #008080; text-decoration-color: #008080\">    20</span> │ <span style=\"color: #008080; text-decoration-color: #008080\">   50</span> │ <span style=\"color: #008080; text-decoration-color: #008080\">   80</span> │ <span style=\"color: #008080; text-decoration-color: #008080\">  120</span> │ <span style=\"color: #008000; text-decoration-color: #008000\">   ▇▇▆ </span> │  │\n",
       "│ └─────────────────┴─────┴────────┴──────────┴────────────┴────────┴────────┴───────┴───────┴───────┴─────────┘  │\n",
       "│ <span style=\"font-style: italic\">                                                    string                                                    </span>  │\n",
       "│ ┏━━━━━━━━━━━━━━━━━━━━━━━━━━━┳━━━━━━━━━┳━━━━━━━━━━━━┳━━━━━━━━━━━━━━━━━━━━━━━━━━━━━━┳━━━━━━━━━━━━━━━━━━━━━━━━━━┓  │\n",
       "│ ┃<span style=\"font-weight: bold\"> column_name               </span>┃<span style=\"font-weight: bold\"> NA      </span>┃<span style=\"font-weight: bold\"> NA %       </span>┃<span style=\"font-weight: bold\"> words per row                </span>┃<span style=\"font-weight: bold\"> total words              </span>┃  │\n",
       "│ ┡━━━━━━━━━━━━━━━━━━━━━━━━━━━╇━━━━━━━━━╇━━━━━━━━━━━━╇━━━━━━━━━━━━━━━━━━━━━━━━━━━━━━╇━━━━━━━━━━━━━━━━━━━━━━━━━━┩  │\n",
       "│ │ <span style=\"color: #af87ff; text-decoration-color: #af87ff\">car                      </span> │ <span style=\"color: #008080; text-decoration-color: #008080\">      0</span> │ <span style=\"color: #008080; text-decoration-color: #008080\">         0</span> │ <span style=\"color: #008080; text-decoration-color: #008080\">                           1</span> │ <span style=\"color: #008080; text-decoration-color: #008080\">                    3160</span> │  │\n",
       "│ └───────────────────────────┴─────────┴────────────┴──────────────────────────────┴──────────────────────────┘  │\n",
       "╰────────────────────────────────────────────────────── End ──────────────────────────────────────────────────────╯\n",
       "</pre>\n"
      ],
      "text/plain": [
       "╭──────────────────────────────────────────────── skimpy summary ─────────────────────────────────────────────────╮\n",
       "│ \u001b[3m         Data Summary         \u001b[0m \u001b[3m      Data Types       \u001b[0m                                                          │\n",
       "│ ┏━━━━━━━━━━━━━━━━━━━┳━━━━━━━━┓ ┏━━━━━━━━━━━━━┳━━━━━━━┓                                                          │\n",
       "│ ┃\u001b[1;36m \u001b[0m\u001b[1;36mdataframe        \u001b[0m\u001b[1;36m \u001b[0m┃\u001b[1;36m \u001b[0m\u001b[1;36mValues\u001b[0m\u001b[1;36m \u001b[0m┃ ┃\u001b[1;36m \u001b[0m\u001b[1;36mColumn Type\u001b[0m\u001b[1;36m \u001b[0m┃\u001b[1;36m \u001b[0m\u001b[1;36mCount\u001b[0m\u001b[1;36m \u001b[0m┃                                                          │\n",
       "│ ┡━━━━━━━━━━━━━━━━━━━╇━━━━━━━━┩ ┡━━━━━━━━━━━━━╇━━━━━━━┩                                                          │\n",
       "│ │ Number of rows    │ 3160   │ │ int32       │ 7     │                                                          │\n",
       "│ │ Number of columns │ 10     │ │ float64     │ 2     │                                                          │\n",
       "│ └───────────────────┴────────┘ │ string      │ 1     │                                                          │\n",
       "│                                └─────────────┴───────┘                                                          │\n",
       "│ \u001b[3m                                                    number                                                    \u001b[0m  │\n",
       "│ ┏━━━━━━━━━━━━━━━━━┳━━━━━┳━━━━━━━━┳━━━━━━━━━━┳━━━━━━━━━━━━┳━━━━━━━━┳━━━━━━━━┳━━━━━━━┳━━━━━━━┳━━━━━━━┳━━━━━━━━━┓  │\n",
       "│ ┃\u001b[1m \u001b[0m\u001b[1mcolumn_name    \u001b[0m\u001b[1m \u001b[0m┃\u001b[1m \u001b[0m\u001b[1mNA \u001b[0m\u001b[1m \u001b[0m┃\u001b[1m \u001b[0m\u001b[1mNA %  \u001b[0m\u001b[1m \u001b[0m┃\u001b[1m \u001b[0m\u001b[1mmean    \u001b[0m\u001b[1m \u001b[0m┃\u001b[1m \u001b[0m\u001b[1msd        \u001b[0m\u001b[1m \u001b[0m┃\u001b[1m \u001b[0m\u001b[1mp0    \u001b[0m\u001b[1m \u001b[0m┃\u001b[1m \u001b[0m\u001b[1mp25   \u001b[0m\u001b[1m \u001b[0m┃\u001b[1m \u001b[0m\u001b[1mp50  \u001b[0m\u001b[1m \u001b[0m┃\u001b[1m \u001b[0m\u001b[1mp75  \u001b[0m\u001b[1m \u001b[0m┃\u001b[1m \u001b[0m\u001b[1mp100 \u001b[0m\u001b[1m \u001b[0m┃\u001b[1m \u001b[0m\u001b[1mhist   \u001b[0m\u001b[1m \u001b[0m┃  │\n",
       "│ ┡━━━━━━━━━━━━━━━━━╇━━━━━╇━━━━━━━━╇━━━━━━━━━━╇━━━━━━━━━━━━╇━━━━━━━━╇━━━━━━━━╇━━━━━━━╇━━━━━━━╇━━━━━━━╇━━━━━━━━━┩  │\n",
       "│ │ \u001b[38;5;141mrecord_id      \u001b[0m │ \u001b[36m  0\u001b[0m │ \u001b[36m     0\u001b[0m │ \u001b[36m   443.6\u001b[0m │ \u001b[36m       256\u001b[0m │ \u001b[36m     1\u001b[0m │ \u001b[36m   222\u001b[0m │ \u001b[36m  444\u001b[0m │ \u001b[36m  664\u001b[0m │ \u001b[36m  885\u001b[0m │ \u001b[32m▇▇▇▇▇▇ \u001b[0m │  │\n",
       "│ │ \u001b[38;5;141msession_id     \u001b[0m │ \u001b[36m  0\u001b[0m │ \u001b[36m     0\u001b[0m │ \u001b[36m   443.6\u001b[0m │ \u001b[36m       256\u001b[0m │ \u001b[36m     1\u001b[0m │ \u001b[36m   222\u001b[0m │ \u001b[36m  444\u001b[0m │ \u001b[36m  664\u001b[0m │ \u001b[36m  885\u001b[0m │ \u001b[32m▇▇▇▇▇▇ \u001b[0m │  │\n",
       "│ │ \u001b[38;5;141mconsumer_id    \u001b[0m │ \u001b[36m  0\u001b[0m │ \u001b[36m     0\u001b[0m │ \u001b[36m   443.6\u001b[0m │ \u001b[36m       256\u001b[0m │ \u001b[36m     1\u001b[0m │ \u001b[36m   222\u001b[0m │ \u001b[36m  444\u001b[0m │ \u001b[36m  664\u001b[0m │ \u001b[36m  885\u001b[0m │ \u001b[32m▇▇▇▇▇▇ \u001b[0m │  │\n",
       "│ │ \u001b[38;5;141mpurchase       \u001b[0m │ \u001b[36m  0\u001b[0m │ \u001b[36m     0\u001b[0m │ \u001b[36m  0.2801\u001b[0m │ \u001b[36m    0.4491\u001b[0m │ \u001b[36m     0\u001b[0m │ \u001b[36m     0\u001b[0m │ \u001b[36m    0\u001b[0m │ \u001b[36m    1\u001b[0m │ \u001b[36m    1\u001b[0m │ \u001b[32m▇    ▃ \u001b[0m │  │\n",
       "│ │ \u001b[38;5;141mgender         \u001b[0m │ \u001b[36m  0\u001b[0m │ \u001b[36m     0\u001b[0m │ \u001b[36m  0.7225\u001b[0m │ \u001b[36m    0.4479\u001b[0m │ \u001b[36m     0\u001b[0m │ \u001b[36m     0\u001b[0m │ \u001b[36m    1\u001b[0m │ \u001b[36m    1\u001b[0m │ \u001b[36m    1\u001b[0m │ \u001b[32m▃    ▇ \u001b[0m │  │\n",
       "│ │ \u001b[38;5;141mincome         \u001b[0m │ \u001b[36m 23\u001b[0m │ \u001b[36m  0.73\u001b[0m │ \u001b[36m    42.1\u001b[0m │ \u001b[36m     12.44\u001b[0m │ \u001b[36m  20.3\u001b[0m │ \u001b[36m    33\u001b[0m │ \u001b[36m 43.3\u001b[0m │ \u001b[36m 46.7\u001b[0m │ \u001b[36m 69.8\u001b[0m │ \u001b[32m▅▂▇▆▁▂ \u001b[0m │  │\n",
       "│ │ \u001b[38;5;141mspeed          \u001b[0m │ \u001b[36m  0\u001b[0m │ \u001b[36m     0\u001b[0m │ \u001b[36m    8.28\u001b[0m │ \u001b[36m      1.15\u001b[0m │ \u001b[36m     7\u001b[0m │ \u001b[36m     7\u001b[0m │ \u001b[36m    8\u001b[0m │ \u001b[36m   10\u001b[0m │ \u001b[36m   10\u001b[0m │ \u001b[32m▅ ▇  ▅ \u001b[0m │  │\n",
       "│ │ \u001b[38;5;141mdiscount       \u001b[0m │ \u001b[36m  0\u001b[0m │ \u001b[36m     0\u001b[0m │ \u001b[36m  0.8988\u001b[0m │ \u001b[36m   0.05707\u001b[0m │ \u001b[36m   0.8\u001b[0m │ \u001b[36m  0.85\u001b[0m │ \u001b[36m  0.9\u001b[0m │ \u001b[36m 0.95\u001b[0m │ \u001b[36m    1\u001b[0m │ \u001b[32m▇▆▇▇▅▇ \u001b[0m │  │\n",
       "│ │ \u001b[38;5;141mprice          \u001b[0m │ \u001b[36m  0\u001b[0m │ \u001b[36m     0\u001b[0m │ \u001b[36m   50.95\u001b[0m │ \u001b[36m     33.06\u001b[0m │ \u001b[36m  -126\u001b[0m │ \u001b[36m    20\u001b[0m │ \u001b[36m   50\u001b[0m │ \u001b[36m   80\u001b[0m │ \u001b[36m  120\u001b[0m │ \u001b[32m   ▇▇▆ \u001b[0m │  │\n",
       "│ └─────────────────┴─────┴────────┴──────────┴────────────┴────────┴────────┴───────┴───────┴───────┴─────────┘  │\n",
       "│ \u001b[3m                                                    string                                                    \u001b[0m  │\n",
       "│ ┏━━━━━━━━━━━━━━━━━━━━━━━━━━━┳━━━━━━━━━┳━━━━━━━━━━━━┳━━━━━━━━━━━━━━━━━━━━━━━━━━━━━━┳━━━━━━━━━━━━━━━━━━━━━━━━━━┓  │\n",
       "│ ┃\u001b[1m \u001b[0m\u001b[1mcolumn_name              \u001b[0m\u001b[1m \u001b[0m┃\u001b[1m \u001b[0m\u001b[1mNA     \u001b[0m\u001b[1m \u001b[0m┃\u001b[1m \u001b[0m\u001b[1mNA %      \u001b[0m\u001b[1m \u001b[0m┃\u001b[1m \u001b[0m\u001b[1mwords per row               \u001b[0m\u001b[1m \u001b[0m┃\u001b[1m \u001b[0m\u001b[1mtotal words             \u001b[0m\u001b[1m \u001b[0m┃  │\n",
       "│ ┡━━━━━━━━━━━━━━━━━━━━━━━━━━━╇━━━━━━━━━╇━━━━━━━━━━━━╇━━━━━━━━━━━━━━━━━━━━━━━━━━━━━━╇━━━━━━━━━━━━━━━━━━━━━━━━━━┩  │\n",
       "│ │ \u001b[38;5;141mcar                      \u001b[0m │ \u001b[36m      0\u001b[0m │ \u001b[36m         0\u001b[0m │ \u001b[36m                           1\u001b[0m │ \u001b[36m                    3160\u001b[0m │  │\n",
       "│ └───────────────────────────┴─────────┴────────────┴──────────────────────────────┴──────────────────────────┘  │\n",
       "╰────────────────────────────────────────────────────── End ──────────────────────────────────────────────────────╯\n"
      ]
     },
     "metadata": {},
     "output_type": "display_data"
    }
   ],
   "source": [
    "skim(car_choice)"
   ]
  },
  {
   "cell_type": "markdown",
   "metadata": {},
   "source": [
    "Use the EasyDataSet function to create the choice dataset object"
   ]
  },
  {
   "cell_type": "code",
   "execution_count": 9,
   "metadata": {},
   "outputs": [
    {
     "name": "stdout",
     "output_type": "stream",
     "text": [
      "Creating choice dataset from stata format data-frames...\n",
      "Note: choice sets of different sizes found in different purchase records: {'size 4': 'occurrence 505', 'size 3': 'occurrence 380'}\n",
      "Finished Creating Choice Dataset.\n",
      "* purchase record index range: [1 2 3] ... [883 884 885]\n",
      "* Space of 4 items:\n",
      "                   0         1         2       3\n",
      "item name  American  European  Japanese  Korean\n",
      "* Number of purchase records/cases: 885.\n",
      "* Preview of main data frame:\n",
      "      record_id  session_id  consumer_id       car  purchase  gender  \\\n",
      "0             1           1            1  American         1       1   \n",
      "1             1           1            1  Japanese         0       1   \n",
      "2             1           1            1  European         0       1   \n",
      "3             1           1            1    Korean         0       1   \n",
      "4             2           2            2  American         1       1   \n",
      "...         ...         ...          ...       ...       ...     ...   \n",
      "3155        884         884          884  Japanese         1       1   \n",
      "3156        884         884          884  European         0       1   \n",
      "3157        885         885          885  American         1       1   \n",
      "3158        885         885          885  Japanese         0       1   \n",
      "3159        885         885          885  European         0       1   \n",
      "\n",
      "         income  speed  discount  price  \n",
      "0     46.699997     10      0.94     90  \n",
      "1     46.699997      8      0.94    110  \n",
      "2     46.699997      7      0.94     50  \n",
      "3     46.699997      8      0.94     10  \n",
      "4     26.100000     10      0.95    100  \n",
      "...         ...    ...       ...    ...  \n",
      "3155  20.900000      8      0.89    100  \n",
      "3156  20.900000      7      0.89     40  \n",
      "3157  30.600000     10      0.81    100  \n",
      "3158  30.600000      8      0.81     50  \n",
      "3159  30.600000      7      0.81     40  \n",
      "\n",
      "[3160 rows x 10 columns]\n",
      "* Preview of ChoiceDataset:\n",
      "ChoiceDataset(num_items=4, num_users=885, num_sessions=885, label=[], item_index=[885], user_index=[885], session_index=[885], item_availability=[885, 4], item_speed=[4, 1], user_gender=[885, 1], user_income=[885, 1], session_discount=[885, 1], itemsession_price=[885, 4, 1], device=cpu)\n"
     ]
    },
    {
     "name": "stderr",
     "output_type": "stream",
     "text": [
      "C:\\Users\\steph\\AppData\\Local\\Packages\\PythonSoftwareFoundation.Python.3.11_qbz5n2kfra8p0\\LocalCache\\local-packages\\Python311\\site-packages\\torch_choice\\data\\choice_dataset.py:240: UserWarning: The number of items is inferred from the number of unique items, excluding -1's denoting outside options, in the item_index tensor. This might lead to unexpected behaviors if some items never appeared in the item_index tensor. For a safer behavior, please provide the number of items explicitly by using the num_items keyword while initializing the ChoiceDataset class.\n",
      "  warnings.warn(f\"The number of items is inferred from the number of unique items, excluding -1's denoting outside options, in the item_index tensor. This might lead to unexpected behaviors if some items never appeared in the item_index tensor. For a safer behavior, please provide the number of items explicitly by using the num_items keyword while initializing the ChoiceDataset class.\")\n",
      "C:\\Users\\steph\\AppData\\Local\\Packages\\PythonSoftwareFoundation.Python.3.11_qbz5n2kfra8p0\\LocalCache\\local-packages\\Python311\\site-packages\\torch_choice\\data\\choice_dataset.py:215: UserWarning: The number of users is inferred from the number of unique users in the user_index tensor. This might lead to unexpected behaviors if some users never appeared in the user_index tensor. For a safer behavior, please provide the number of users explicitly by using the num_users keyword while initializing the ChoiceDataset class.\n",
      "  warnings.warn(f\"The number of users is inferred from the number of unique users in the user_index tensor. This might lead to unexpected behaviors if some users never appeared in the user_index tensor. For a safer behavior, please provide the number of users explicitly by using the num_users keyword while initializing the ChoiceDataset class.\")\n",
      "C:\\Users\\steph\\AppData\\Local\\Packages\\PythonSoftwareFoundation.Python.3.11_qbz5n2kfra8p0\\LocalCache\\local-packages\\Python311\\site-packages\\torch_choice\\data\\choice_dataset.py:260: UserWarning: The number of sessions is inferred from the number of unique sessions in the session_index tensor. This might lead to unexpected behaviors if some sessions never appeared in the session_index tensor. For a safer behavior, please provide the number of sessions explicitly by using the num_sessions keyword while initializing the ChoiceDataset class.\n",
      "  warnings.warn(f\"The number of sessions is inferred from the number of unique sessions in the session_index tensor. This might lead to unexpected behaviors if some sessions never appeared in the session_index tensor. For a safer behavior, please provide the number of sessions explicitly by using the num_sessions keyword while initializing the ChoiceDataset class.\")\n"
     ]
    }
   ],
   "source": [
    "data_wrapper_from_columns = EasyDatasetWrapper(\n",
    "    main_data = car_choice ,\n",
    "    purchase_record_column = 'record_id',\n",
    "    choice_column = 'purchase',\n",
    "    item_name_column = 'car',\n",
    "    user_index_column = 'consumer_id',\n",
    "    session_index_column = 'session_id',\n",
    "    user_observable_columns = ['gender', 'income'],\n",
    "    item_observable_columns = ['speed' ],\n",
    "    session_observable_columns = ['discount'],\n",
    "    itemsession_observable_columns = ['price'])\n",
    "\n",
    "data_wrapper_from_columns.summary()\n",
    "dataset = data_wrapper_from_columns.choice_dataset"
   ]
  },
  {
   "cell_type": "code",
   "execution_count": null,
   "metadata": {},
   "outputs": [],
   "source": []
  }
 ],
 "metadata": {
  "kernelspec": {
   "display_name": "Python 3",
   "language": "python",
   "name": "python3"
  },
  "language_info": {
   "codemirror_mode": {
    "name": "ipython",
    "version": 3
   },
   "file_extension": ".py",
   "mimetype": "text/x-python",
   "name": "python",
   "nbconvert_exporter": "python",
   "pygments_lexer": "ipython3",
   "version": "3.11.9"
  }
 },
 "nbformat": 4,
 "nbformat_minor": 2
}
