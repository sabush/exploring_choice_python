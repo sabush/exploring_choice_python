{
 "cells": [
  {
   "cell_type": "markdown",
   "metadata": {},
   "source": [
    "# Testing Torch Choice Package\n",
    "\n",
    "The purpose of this notebook is to test out the capabilities of the torch-choice package in python. The first section will try the vignette and then some new data will be used.\n",
    "\n",
    "## Vignette\n"
   ]
  },
  {
   "cell_type": "markdown",
   "metadata": {},
   "source": [
    "Install required packages"
   ]
  },
  {
   "cell_type": "code",
   "execution_count": 57,
   "metadata": {},
   "outputs": [],
   "source": [
    "import pandas as pd\n",
    "import numpy as np\n",
    "import torch\n",
    "from torch_choice.utils.easy_data_wrapper import EasyDatasetWrapper\n",
    "from torch_choice.data import load_mode_canada_dataset\n",
    "from torch_choice.model import ConditionalLogitModel\n",
    "from torch_choice import run\n",
    "from skimpy import skim"
   ]
  },
  {
   "cell_type": "code",
   "execution_count": 58,
   "metadata": {},
   "outputs": [],
   "source": [
    "if torch.cuda.is_available():\n",
    "    device = 'cuda'  # use GPU if available\n",
    "else:\n",
    "    device = 'cpu'  # use CPU otherwise"
   ]
  },
  {
   "cell_type": "code",
   "execution_count": 59,
   "metadata": {},
   "outputs": [],
   "source": [
    "car_choice = pd.read_csv(\"https://raw.githubusercontent.com/gsbDBI/torch-choice/main/tutorials/public_datasets/car_choice.csv\")"
   ]
  },
  {
   "cell_type": "markdown",
   "metadata": {},
   "source": [
    "Display the data"
   ]
  },
  {
   "cell_type": "code",
   "execution_count": 60,
   "metadata": {},
   "outputs": [
    {
     "data": {
      "text/html": [
       "<div>\n",
       "<style scoped>\n",
       "    .dataframe tbody tr th:only-of-type {\n",
       "        vertical-align: middle;\n",
       "    }\n",
       "\n",
       "    .dataframe tbody tr th {\n",
       "        vertical-align: top;\n",
       "    }\n",
       "\n",
       "    .dataframe thead th {\n",
       "        text-align: right;\n",
       "    }\n",
       "</style>\n",
       "<table border=\"1\" class=\"dataframe\">\n",
       "  <thead>\n",
       "    <tr style=\"text-align: right;\">\n",
       "      <th></th>\n",
       "      <th>record_id</th>\n",
       "      <th>session_id</th>\n",
       "      <th>consumer_id</th>\n",
       "      <th>car</th>\n",
       "      <th>purchase</th>\n",
       "      <th>gender</th>\n",
       "      <th>income</th>\n",
       "      <th>speed</th>\n",
       "      <th>discount</th>\n",
       "      <th>price</th>\n",
       "    </tr>\n",
       "  </thead>\n",
       "  <tbody>\n",
       "    <tr>\n",
       "      <th>0</th>\n",
       "      <td>1</td>\n",
       "      <td>1</td>\n",
       "      <td>1</td>\n",
       "      <td>American</td>\n",
       "      <td>1</td>\n",
       "      <td>1</td>\n",
       "      <td>46.699997</td>\n",
       "      <td>10</td>\n",
       "      <td>0.94</td>\n",
       "      <td>90</td>\n",
       "    </tr>\n",
       "    <tr>\n",
       "      <th>1</th>\n",
       "      <td>1</td>\n",
       "      <td>1</td>\n",
       "      <td>1</td>\n",
       "      <td>Japanese</td>\n",
       "      <td>0</td>\n",
       "      <td>1</td>\n",
       "      <td>46.699997</td>\n",
       "      <td>8</td>\n",
       "      <td>0.94</td>\n",
       "      <td>110</td>\n",
       "    </tr>\n",
       "    <tr>\n",
       "      <th>2</th>\n",
       "      <td>1</td>\n",
       "      <td>1</td>\n",
       "      <td>1</td>\n",
       "      <td>European</td>\n",
       "      <td>0</td>\n",
       "      <td>1</td>\n",
       "      <td>46.699997</td>\n",
       "      <td>7</td>\n",
       "      <td>0.94</td>\n",
       "      <td>50</td>\n",
       "    </tr>\n",
       "    <tr>\n",
       "      <th>3</th>\n",
       "      <td>1</td>\n",
       "      <td>1</td>\n",
       "      <td>1</td>\n",
       "      <td>Korean</td>\n",
       "      <td>0</td>\n",
       "      <td>1</td>\n",
       "      <td>46.699997</td>\n",
       "      <td>8</td>\n",
       "      <td>0.94</td>\n",
       "      <td>10</td>\n",
       "    </tr>\n",
       "    <tr>\n",
       "      <th>4</th>\n",
       "      <td>2</td>\n",
       "      <td>2</td>\n",
       "      <td>2</td>\n",
       "      <td>American</td>\n",
       "      <td>1</td>\n",
       "      <td>1</td>\n",
       "      <td>26.100000</td>\n",
       "      <td>10</td>\n",
       "      <td>0.95</td>\n",
       "      <td>100</td>\n",
       "    </tr>\n",
       "    <tr>\n",
       "      <th>...</th>\n",
       "      <td>...</td>\n",
       "      <td>...</td>\n",
       "      <td>...</td>\n",
       "      <td>...</td>\n",
       "      <td>...</td>\n",
       "      <td>...</td>\n",
       "      <td>...</td>\n",
       "      <td>...</td>\n",
       "      <td>...</td>\n",
       "      <td>...</td>\n",
       "    </tr>\n",
       "    <tr>\n",
       "      <th>3155</th>\n",
       "      <td>884</td>\n",
       "      <td>884</td>\n",
       "      <td>884</td>\n",
       "      <td>Japanese</td>\n",
       "      <td>1</td>\n",
       "      <td>1</td>\n",
       "      <td>20.900000</td>\n",
       "      <td>8</td>\n",
       "      <td>0.89</td>\n",
       "      <td>100</td>\n",
       "    </tr>\n",
       "    <tr>\n",
       "      <th>3156</th>\n",
       "      <td>884</td>\n",
       "      <td>884</td>\n",
       "      <td>884</td>\n",
       "      <td>European</td>\n",
       "      <td>0</td>\n",
       "      <td>1</td>\n",
       "      <td>20.900000</td>\n",
       "      <td>7</td>\n",
       "      <td>0.89</td>\n",
       "      <td>40</td>\n",
       "    </tr>\n",
       "    <tr>\n",
       "      <th>3157</th>\n",
       "      <td>885</td>\n",
       "      <td>885</td>\n",
       "      <td>885</td>\n",
       "      <td>American</td>\n",
       "      <td>1</td>\n",
       "      <td>1</td>\n",
       "      <td>30.600000</td>\n",
       "      <td>10</td>\n",
       "      <td>0.81</td>\n",
       "      <td>100</td>\n",
       "    </tr>\n",
       "    <tr>\n",
       "      <th>3158</th>\n",
       "      <td>885</td>\n",
       "      <td>885</td>\n",
       "      <td>885</td>\n",
       "      <td>Japanese</td>\n",
       "      <td>0</td>\n",
       "      <td>1</td>\n",
       "      <td>30.600000</td>\n",
       "      <td>8</td>\n",
       "      <td>0.81</td>\n",
       "      <td>50</td>\n",
       "    </tr>\n",
       "    <tr>\n",
       "      <th>3159</th>\n",
       "      <td>885</td>\n",
       "      <td>885</td>\n",
       "      <td>885</td>\n",
       "      <td>European</td>\n",
       "      <td>0</td>\n",
       "      <td>1</td>\n",
       "      <td>30.600000</td>\n",
       "      <td>7</td>\n",
       "      <td>0.81</td>\n",
       "      <td>40</td>\n",
       "    </tr>\n",
       "  </tbody>\n",
       "</table>\n",
       "<p>3160 rows × 10 columns</p>\n",
       "</div>"
      ],
      "text/plain": [
       "      record_id  session_id  consumer_id       car  purchase  gender  \\\n",
       "0             1           1            1  American         1       1   \n",
       "1             1           1            1  Japanese         0       1   \n",
       "2             1           1            1  European         0       1   \n",
       "3             1           1            1    Korean         0       1   \n",
       "4             2           2            2  American         1       1   \n",
       "...         ...         ...          ...       ...       ...     ...   \n",
       "3155        884         884          884  Japanese         1       1   \n",
       "3156        884         884          884  European         0       1   \n",
       "3157        885         885          885  American         1       1   \n",
       "3158        885         885          885  Japanese         0       1   \n",
       "3159        885         885          885  European         0       1   \n",
       "\n",
       "         income  speed  discount  price  \n",
       "0     46.699997     10      0.94     90  \n",
       "1     46.699997      8      0.94    110  \n",
       "2     46.699997      7      0.94     50  \n",
       "3     46.699997      8      0.94     10  \n",
       "4     26.100000     10      0.95    100  \n",
       "...         ...    ...       ...    ...  \n",
       "3155  20.900000      8      0.89    100  \n",
       "3156  20.900000      7      0.89     40  \n",
       "3157  30.600000     10      0.81    100  \n",
       "3158  30.600000      8      0.81     50  \n",
       "3159  30.600000      7      0.81     40  \n",
       "\n",
       "[3160 rows x 10 columns]"
      ]
     },
     "metadata": {},
     "output_type": "display_data"
    }
   ],
   "source": [
    "display(car_choice)"
   ]
  },
  {
   "cell_type": "markdown",
   "metadata": {},
   "source": [
    "Quickly summarise the dataset"
   ]
  },
  {
   "cell_type": "code",
   "execution_count": 61,
   "metadata": {},
   "outputs": [
    {
     "data": {
      "text/html": [
       "<pre style=\"white-space:pre;overflow-x:auto;line-height:normal;font-family:Menlo,'DejaVu Sans Mono',consolas,'Courier New',monospace\">╭──────────────────────────────────────────────── skimpy summary ─────────────────────────────────────────────────╮\n",
       "│ <span style=\"font-style: italic\">         Data Summary         </span> <span style=\"font-style: italic\">      Data Types       </span>                                                          │\n",
       "│ ┏━━━━━━━━━━━━━━━━━━━┳━━━━━━━━┓ ┏━━━━━━━━━━━━━┳━━━━━━━┓                                                          │\n",
       "│ ┃<span style=\"color: #008080; text-decoration-color: #008080; font-weight: bold\"> dataframe         </span>┃<span style=\"color: #008080; text-decoration-color: #008080; font-weight: bold\"> Values </span>┃ ┃<span style=\"color: #008080; text-decoration-color: #008080; font-weight: bold\"> Column Type </span>┃<span style=\"color: #008080; text-decoration-color: #008080; font-weight: bold\"> Count </span>┃                                                          │\n",
       "│ ┡━━━━━━━━━━━━━━━━━━━╇━━━━━━━━┩ ┡━━━━━━━━━━━━━╇━━━━━━━┩                                                          │\n",
       "│ │ Number of rows    │ 3160   │ │ int32       │ 7     │                                                          │\n",
       "│ │ Number of columns │ 10     │ │ float64     │ 2     │                                                          │\n",
       "│ └───────────────────┴────────┘ │ string      │ 1     │                                                          │\n",
       "│                                └─────────────┴───────┘                                                          │\n",
       "│ <span style=\"font-style: italic\">                                                    number                                                    </span>  │\n",
       "│ ┏━━━━━━━━━━━━━━━━━┳━━━━━┳━━━━━━━━┳━━━━━━━━━━┳━━━━━━━━━━━━┳━━━━━━━━┳━━━━━━━━┳━━━━━━━┳━━━━━━━┳━━━━━━━┳━━━━━━━━━┓  │\n",
       "│ ┃<span style=\"font-weight: bold\"> column_name     </span>┃<span style=\"font-weight: bold\"> NA  </span>┃<span style=\"font-weight: bold\"> NA %   </span>┃<span style=\"font-weight: bold\"> mean     </span>┃<span style=\"font-weight: bold\"> sd         </span>┃<span style=\"font-weight: bold\"> p0     </span>┃<span style=\"font-weight: bold\"> p25    </span>┃<span style=\"font-weight: bold\"> p50   </span>┃<span style=\"font-weight: bold\"> p75   </span>┃<span style=\"font-weight: bold\"> p100  </span>┃<span style=\"font-weight: bold\"> hist    </span>┃  │\n",
       "│ ┡━━━━━━━━━━━━━━━━━╇━━━━━╇━━━━━━━━╇━━━━━━━━━━╇━━━━━━━━━━━━╇━━━━━━━━╇━━━━━━━━╇━━━━━━━╇━━━━━━━╇━━━━━━━╇━━━━━━━━━┩  │\n",
       "│ │ <span style=\"color: #af87ff; text-decoration-color: #af87ff\">record_id      </span> │ <span style=\"color: #008080; text-decoration-color: #008080\">  0</span> │ <span style=\"color: #008080; text-decoration-color: #008080\">     0</span> │ <span style=\"color: #008080; text-decoration-color: #008080\">   443.6</span> │ <span style=\"color: #008080; text-decoration-color: #008080\">       256</span> │ <span style=\"color: #008080; text-decoration-color: #008080\">     1</span> │ <span style=\"color: #008080; text-decoration-color: #008080\">   222</span> │ <span style=\"color: #008080; text-decoration-color: #008080\">  444</span> │ <span style=\"color: #008080; text-decoration-color: #008080\">  664</span> │ <span style=\"color: #008080; text-decoration-color: #008080\">  885</span> │ <span style=\"color: #008000; text-decoration-color: #008000\">▇▇▇▇▇▇ </span> │  │\n",
       "│ │ <span style=\"color: #af87ff; text-decoration-color: #af87ff\">session_id     </span> │ <span style=\"color: #008080; text-decoration-color: #008080\">  0</span> │ <span style=\"color: #008080; text-decoration-color: #008080\">     0</span> │ <span style=\"color: #008080; text-decoration-color: #008080\">   443.6</span> │ <span style=\"color: #008080; text-decoration-color: #008080\">       256</span> │ <span style=\"color: #008080; text-decoration-color: #008080\">     1</span> │ <span style=\"color: #008080; text-decoration-color: #008080\">   222</span> │ <span style=\"color: #008080; text-decoration-color: #008080\">  444</span> │ <span style=\"color: #008080; text-decoration-color: #008080\">  664</span> │ <span style=\"color: #008080; text-decoration-color: #008080\">  885</span> │ <span style=\"color: #008000; text-decoration-color: #008000\">▇▇▇▇▇▇ </span> │  │\n",
       "│ │ <span style=\"color: #af87ff; text-decoration-color: #af87ff\">consumer_id    </span> │ <span style=\"color: #008080; text-decoration-color: #008080\">  0</span> │ <span style=\"color: #008080; text-decoration-color: #008080\">     0</span> │ <span style=\"color: #008080; text-decoration-color: #008080\">   443.6</span> │ <span style=\"color: #008080; text-decoration-color: #008080\">       256</span> │ <span style=\"color: #008080; text-decoration-color: #008080\">     1</span> │ <span style=\"color: #008080; text-decoration-color: #008080\">   222</span> │ <span style=\"color: #008080; text-decoration-color: #008080\">  444</span> │ <span style=\"color: #008080; text-decoration-color: #008080\">  664</span> │ <span style=\"color: #008080; text-decoration-color: #008080\">  885</span> │ <span style=\"color: #008000; text-decoration-color: #008000\">▇▇▇▇▇▇ </span> │  │\n",
       "│ │ <span style=\"color: #af87ff; text-decoration-color: #af87ff\">purchase       </span> │ <span style=\"color: #008080; text-decoration-color: #008080\">  0</span> │ <span style=\"color: #008080; text-decoration-color: #008080\">     0</span> │ <span style=\"color: #008080; text-decoration-color: #008080\">  0.2801</span> │ <span style=\"color: #008080; text-decoration-color: #008080\">    0.4491</span> │ <span style=\"color: #008080; text-decoration-color: #008080\">     0</span> │ <span style=\"color: #008080; text-decoration-color: #008080\">     0</span> │ <span style=\"color: #008080; text-decoration-color: #008080\">    0</span> │ <span style=\"color: #008080; text-decoration-color: #008080\">    1</span> │ <span style=\"color: #008080; text-decoration-color: #008080\">    1</span> │ <span style=\"color: #008000; text-decoration-color: #008000\">▇    ▃ </span> │  │\n",
       "│ │ <span style=\"color: #af87ff; text-decoration-color: #af87ff\">gender         </span> │ <span style=\"color: #008080; text-decoration-color: #008080\">  0</span> │ <span style=\"color: #008080; text-decoration-color: #008080\">     0</span> │ <span style=\"color: #008080; text-decoration-color: #008080\">  0.7225</span> │ <span style=\"color: #008080; text-decoration-color: #008080\">    0.4479</span> │ <span style=\"color: #008080; text-decoration-color: #008080\">     0</span> │ <span style=\"color: #008080; text-decoration-color: #008080\">     0</span> │ <span style=\"color: #008080; text-decoration-color: #008080\">    1</span> │ <span style=\"color: #008080; text-decoration-color: #008080\">    1</span> │ <span style=\"color: #008080; text-decoration-color: #008080\">    1</span> │ <span style=\"color: #008000; text-decoration-color: #008000\">▃    ▇ </span> │  │\n",
       "│ │ <span style=\"color: #af87ff; text-decoration-color: #af87ff\">income         </span> │ <span style=\"color: #008080; text-decoration-color: #008080\"> 23</span> │ <span style=\"color: #008080; text-decoration-color: #008080\">  0.73</span> │ <span style=\"color: #008080; text-decoration-color: #008080\">    42.1</span> │ <span style=\"color: #008080; text-decoration-color: #008080\">     12.44</span> │ <span style=\"color: #008080; text-decoration-color: #008080\">  20.3</span> │ <span style=\"color: #008080; text-decoration-color: #008080\">    33</span> │ <span style=\"color: #008080; text-decoration-color: #008080\"> 43.3</span> │ <span style=\"color: #008080; text-decoration-color: #008080\"> 46.7</span> │ <span style=\"color: #008080; text-decoration-color: #008080\"> 69.8</span> │ <span style=\"color: #008000; text-decoration-color: #008000\">▅▂▇▆▁▂ </span> │  │\n",
       "│ │ <span style=\"color: #af87ff; text-decoration-color: #af87ff\">speed          </span> │ <span style=\"color: #008080; text-decoration-color: #008080\">  0</span> │ <span style=\"color: #008080; text-decoration-color: #008080\">     0</span> │ <span style=\"color: #008080; text-decoration-color: #008080\">    8.28</span> │ <span style=\"color: #008080; text-decoration-color: #008080\">      1.15</span> │ <span style=\"color: #008080; text-decoration-color: #008080\">     7</span> │ <span style=\"color: #008080; text-decoration-color: #008080\">     7</span> │ <span style=\"color: #008080; text-decoration-color: #008080\">    8</span> │ <span style=\"color: #008080; text-decoration-color: #008080\">   10</span> │ <span style=\"color: #008080; text-decoration-color: #008080\">   10</span> │ <span style=\"color: #008000; text-decoration-color: #008000\">▅ ▇  ▅ </span> │  │\n",
       "│ │ <span style=\"color: #af87ff; text-decoration-color: #af87ff\">discount       </span> │ <span style=\"color: #008080; text-decoration-color: #008080\">  0</span> │ <span style=\"color: #008080; text-decoration-color: #008080\">     0</span> │ <span style=\"color: #008080; text-decoration-color: #008080\">  0.8988</span> │ <span style=\"color: #008080; text-decoration-color: #008080\">   0.05707</span> │ <span style=\"color: #008080; text-decoration-color: #008080\">   0.8</span> │ <span style=\"color: #008080; text-decoration-color: #008080\">  0.85</span> │ <span style=\"color: #008080; text-decoration-color: #008080\">  0.9</span> │ <span style=\"color: #008080; text-decoration-color: #008080\"> 0.95</span> │ <span style=\"color: #008080; text-decoration-color: #008080\">    1</span> │ <span style=\"color: #008000; text-decoration-color: #008000\">▇▆▇▇▅▇ </span> │  │\n",
       "│ │ <span style=\"color: #af87ff; text-decoration-color: #af87ff\">price          </span> │ <span style=\"color: #008080; text-decoration-color: #008080\">  0</span> │ <span style=\"color: #008080; text-decoration-color: #008080\">     0</span> │ <span style=\"color: #008080; text-decoration-color: #008080\">   50.95</span> │ <span style=\"color: #008080; text-decoration-color: #008080\">     33.06</span> │ <span style=\"color: #008080; text-decoration-color: #008080\">  -126</span> │ <span style=\"color: #008080; text-decoration-color: #008080\">    20</span> │ <span style=\"color: #008080; text-decoration-color: #008080\">   50</span> │ <span style=\"color: #008080; text-decoration-color: #008080\">   80</span> │ <span style=\"color: #008080; text-decoration-color: #008080\">  120</span> │ <span style=\"color: #008000; text-decoration-color: #008000\">   ▇▇▆ </span> │  │\n",
       "│ └─────────────────┴─────┴────────┴──────────┴────────────┴────────┴────────┴───────┴───────┴───────┴─────────┘  │\n",
       "│ <span style=\"font-style: italic\">                                                    string                                                    </span>  │\n",
       "│ ┏━━━━━━━━━━━━━━━━━━━━━━━━━━━┳━━━━━━━━━┳━━━━━━━━━━━━┳━━━━━━━━━━━━━━━━━━━━━━━━━━━━━━┳━━━━━━━━━━━━━━━━━━━━━━━━━━┓  │\n",
       "│ ┃<span style=\"font-weight: bold\"> column_name               </span>┃<span style=\"font-weight: bold\"> NA      </span>┃<span style=\"font-weight: bold\"> NA %       </span>┃<span style=\"font-weight: bold\"> words per row                </span>┃<span style=\"font-weight: bold\"> total words              </span>┃  │\n",
       "│ ┡━━━━━━━━━━━━━━━━━━━━━━━━━━━╇━━━━━━━━━╇━━━━━━━━━━━━╇━━━━━━━━━━━━━━━━━━━━━━━━━━━━━━╇━━━━━━━━━━━━━━━━━━━━━━━━━━┩  │\n",
       "│ │ <span style=\"color: #af87ff; text-decoration-color: #af87ff\">car                      </span> │ <span style=\"color: #008080; text-decoration-color: #008080\">      0</span> │ <span style=\"color: #008080; text-decoration-color: #008080\">         0</span> │ <span style=\"color: #008080; text-decoration-color: #008080\">                           1</span> │ <span style=\"color: #008080; text-decoration-color: #008080\">                    3160</span> │  │\n",
       "│ └───────────────────────────┴─────────┴────────────┴──────────────────────────────┴──────────────────────────┘  │\n",
       "╰────────────────────────────────────────────────────── End ──────────────────────────────────────────────────────╯\n",
       "</pre>\n"
      ],
      "text/plain": [
       "╭──────────────────────────────────────────────── skimpy summary ─────────────────────────────────────────────────╮\n",
       "│ \u001b[3m         Data Summary         \u001b[0m \u001b[3m      Data Types       \u001b[0m                                                          │\n",
       "│ ┏━━━━━━━━━━━━━━━━━━━┳━━━━━━━━┓ ┏━━━━━━━━━━━━━┳━━━━━━━┓                                                          │\n",
       "│ ┃\u001b[1;36m \u001b[0m\u001b[1;36mdataframe        \u001b[0m\u001b[1;36m \u001b[0m┃\u001b[1;36m \u001b[0m\u001b[1;36mValues\u001b[0m\u001b[1;36m \u001b[0m┃ ┃\u001b[1;36m \u001b[0m\u001b[1;36mColumn Type\u001b[0m\u001b[1;36m \u001b[0m┃\u001b[1;36m \u001b[0m\u001b[1;36mCount\u001b[0m\u001b[1;36m \u001b[0m┃                                                          │\n",
       "│ ┡━━━━━━━━━━━━━━━━━━━╇━━━━━━━━┩ ┡━━━━━━━━━━━━━╇━━━━━━━┩                                                          │\n",
       "│ │ Number of rows    │ 3160   │ │ int32       │ 7     │                                                          │\n",
       "│ │ Number of columns │ 10     │ │ float64     │ 2     │                                                          │\n",
       "│ └───────────────────┴────────┘ │ string      │ 1     │                                                          │\n",
       "│                                └─────────────┴───────┘                                                          │\n",
       "│ \u001b[3m                                                    number                                                    \u001b[0m  │\n",
       "│ ┏━━━━━━━━━━━━━━━━━┳━━━━━┳━━━━━━━━┳━━━━━━━━━━┳━━━━━━━━━━━━┳━━━━━━━━┳━━━━━━━━┳━━━━━━━┳━━━━━━━┳━━━━━━━┳━━━━━━━━━┓  │\n",
       "│ ┃\u001b[1m \u001b[0m\u001b[1mcolumn_name    \u001b[0m\u001b[1m \u001b[0m┃\u001b[1m \u001b[0m\u001b[1mNA \u001b[0m\u001b[1m \u001b[0m┃\u001b[1m \u001b[0m\u001b[1mNA %  \u001b[0m\u001b[1m \u001b[0m┃\u001b[1m \u001b[0m\u001b[1mmean    \u001b[0m\u001b[1m \u001b[0m┃\u001b[1m \u001b[0m\u001b[1msd        \u001b[0m\u001b[1m \u001b[0m┃\u001b[1m \u001b[0m\u001b[1mp0    \u001b[0m\u001b[1m \u001b[0m┃\u001b[1m \u001b[0m\u001b[1mp25   \u001b[0m\u001b[1m \u001b[0m┃\u001b[1m \u001b[0m\u001b[1mp50  \u001b[0m\u001b[1m \u001b[0m┃\u001b[1m \u001b[0m\u001b[1mp75  \u001b[0m\u001b[1m \u001b[0m┃\u001b[1m \u001b[0m\u001b[1mp100 \u001b[0m\u001b[1m \u001b[0m┃\u001b[1m \u001b[0m\u001b[1mhist   \u001b[0m\u001b[1m \u001b[0m┃  │\n",
       "│ ┡━━━━━━━━━━━━━━━━━╇━━━━━╇━━━━━━━━╇━━━━━━━━━━╇━━━━━━━━━━━━╇━━━━━━━━╇━━━━━━━━╇━━━━━━━╇━━━━━━━╇━━━━━━━╇━━━━━━━━━┩  │\n",
       "│ │ \u001b[38;5;141mrecord_id      \u001b[0m │ \u001b[36m  0\u001b[0m │ \u001b[36m     0\u001b[0m │ \u001b[36m   443.6\u001b[0m │ \u001b[36m       256\u001b[0m │ \u001b[36m     1\u001b[0m │ \u001b[36m   222\u001b[0m │ \u001b[36m  444\u001b[0m │ \u001b[36m  664\u001b[0m │ \u001b[36m  885\u001b[0m │ \u001b[32m▇▇▇▇▇▇ \u001b[0m │  │\n",
       "│ │ \u001b[38;5;141msession_id     \u001b[0m │ \u001b[36m  0\u001b[0m │ \u001b[36m     0\u001b[0m │ \u001b[36m   443.6\u001b[0m │ \u001b[36m       256\u001b[0m │ \u001b[36m     1\u001b[0m │ \u001b[36m   222\u001b[0m │ \u001b[36m  444\u001b[0m │ \u001b[36m  664\u001b[0m │ \u001b[36m  885\u001b[0m │ \u001b[32m▇▇▇▇▇▇ \u001b[0m │  │\n",
       "│ │ \u001b[38;5;141mconsumer_id    \u001b[0m │ \u001b[36m  0\u001b[0m │ \u001b[36m     0\u001b[0m │ \u001b[36m   443.6\u001b[0m │ \u001b[36m       256\u001b[0m │ \u001b[36m     1\u001b[0m │ \u001b[36m   222\u001b[0m │ \u001b[36m  444\u001b[0m │ \u001b[36m  664\u001b[0m │ \u001b[36m  885\u001b[0m │ \u001b[32m▇▇▇▇▇▇ \u001b[0m │  │\n",
       "│ │ \u001b[38;5;141mpurchase       \u001b[0m │ \u001b[36m  0\u001b[0m │ \u001b[36m     0\u001b[0m │ \u001b[36m  0.2801\u001b[0m │ \u001b[36m    0.4491\u001b[0m │ \u001b[36m     0\u001b[0m │ \u001b[36m     0\u001b[0m │ \u001b[36m    0\u001b[0m │ \u001b[36m    1\u001b[0m │ \u001b[36m    1\u001b[0m │ \u001b[32m▇    ▃ \u001b[0m │  │\n",
       "│ │ \u001b[38;5;141mgender         \u001b[0m │ \u001b[36m  0\u001b[0m │ \u001b[36m     0\u001b[0m │ \u001b[36m  0.7225\u001b[0m │ \u001b[36m    0.4479\u001b[0m │ \u001b[36m     0\u001b[0m │ \u001b[36m     0\u001b[0m │ \u001b[36m    1\u001b[0m │ \u001b[36m    1\u001b[0m │ \u001b[36m    1\u001b[0m │ \u001b[32m▃    ▇ \u001b[0m │  │\n",
       "│ │ \u001b[38;5;141mincome         \u001b[0m │ \u001b[36m 23\u001b[0m │ \u001b[36m  0.73\u001b[0m │ \u001b[36m    42.1\u001b[0m │ \u001b[36m     12.44\u001b[0m │ \u001b[36m  20.3\u001b[0m │ \u001b[36m    33\u001b[0m │ \u001b[36m 43.3\u001b[0m │ \u001b[36m 46.7\u001b[0m │ \u001b[36m 69.8\u001b[0m │ \u001b[32m▅▂▇▆▁▂ \u001b[0m │  │\n",
       "│ │ \u001b[38;5;141mspeed          \u001b[0m │ \u001b[36m  0\u001b[0m │ \u001b[36m     0\u001b[0m │ \u001b[36m    8.28\u001b[0m │ \u001b[36m      1.15\u001b[0m │ \u001b[36m     7\u001b[0m │ \u001b[36m     7\u001b[0m │ \u001b[36m    8\u001b[0m │ \u001b[36m   10\u001b[0m │ \u001b[36m   10\u001b[0m │ \u001b[32m▅ ▇  ▅ \u001b[0m │  │\n",
       "│ │ \u001b[38;5;141mdiscount       \u001b[0m │ \u001b[36m  0\u001b[0m │ \u001b[36m     0\u001b[0m │ \u001b[36m  0.8988\u001b[0m │ \u001b[36m   0.05707\u001b[0m │ \u001b[36m   0.8\u001b[0m │ \u001b[36m  0.85\u001b[0m │ \u001b[36m  0.9\u001b[0m │ \u001b[36m 0.95\u001b[0m │ \u001b[36m    1\u001b[0m │ \u001b[32m▇▆▇▇▅▇ \u001b[0m │  │\n",
       "│ │ \u001b[38;5;141mprice          \u001b[0m │ \u001b[36m  0\u001b[0m │ \u001b[36m     0\u001b[0m │ \u001b[36m   50.95\u001b[0m │ \u001b[36m     33.06\u001b[0m │ \u001b[36m  -126\u001b[0m │ \u001b[36m    20\u001b[0m │ \u001b[36m   50\u001b[0m │ \u001b[36m   80\u001b[0m │ \u001b[36m  120\u001b[0m │ \u001b[32m   ▇▇▆ \u001b[0m │  │\n",
       "│ └─────────────────┴─────┴────────┴──────────┴────────────┴────────┴────────┴───────┴───────┴───────┴─────────┘  │\n",
       "│ \u001b[3m                                                    string                                                    \u001b[0m  │\n",
       "│ ┏━━━━━━━━━━━━━━━━━━━━━━━━━━━┳━━━━━━━━━┳━━━━━━━━━━━━┳━━━━━━━━━━━━━━━━━━━━━━━━━━━━━━┳━━━━━━━━━━━━━━━━━━━━━━━━━━┓  │\n",
       "│ ┃\u001b[1m \u001b[0m\u001b[1mcolumn_name              \u001b[0m\u001b[1m \u001b[0m┃\u001b[1m \u001b[0m\u001b[1mNA     \u001b[0m\u001b[1m \u001b[0m┃\u001b[1m \u001b[0m\u001b[1mNA %      \u001b[0m\u001b[1m \u001b[0m┃\u001b[1m \u001b[0m\u001b[1mwords per row               \u001b[0m\u001b[1m \u001b[0m┃\u001b[1m \u001b[0m\u001b[1mtotal words             \u001b[0m\u001b[1m \u001b[0m┃  │\n",
       "│ ┡━━━━━━━━━━━━━━━━━━━━━━━━━━━╇━━━━━━━━━╇━━━━━━━━━━━━╇━━━━━━━━━━━━━━━━━━━━━━━━━━━━━━╇━━━━━━━━━━━━━━━━━━━━━━━━━━┩  │\n",
       "│ │ \u001b[38;5;141mcar                      \u001b[0m │ \u001b[36m      0\u001b[0m │ \u001b[36m         0\u001b[0m │ \u001b[36m                           1\u001b[0m │ \u001b[36m                    3160\u001b[0m │  │\n",
       "│ └───────────────────────────┴─────────┴────────────┴──────────────────────────────┴──────────────────────────┘  │\n",
       "╰────────────────────────────────────────────────────── End ──────────────────────────────────────────────────────╯\n"
      ]
     },
     "metadata": {},
     "output_type": "display_data"
    }
   ],
   "source": [
    "skim(car_choice)"
   ]
  },
  {
   "cell_type": "markdown",
   "metadata": {},
   "source": [
    "Use the EasyDataSet function to create the choice dataset object\n",
    "\n",
    "What do each of the terms mean?\n",
    "- main data: the data source \n",
    "- purchase_record_column: identifier for each choice set (note that the data is in long format, so a single choice set is across multiple rows)\n",
    "- choice_column: was the option selected\n",
    "- item_name_column: an alternative label?\n",
    "- user_index_column: identifier for a single user\n",
    "- session_index_column: identifier for a single session (accomodates measurement over time?)\n",
    "- user_observable_columns: variables that are invariant within a user (e.g. gender, income)\n",
    "- item_observable_columns: variables that are invariant within a item within a choice set (e.g. brand?)\n",
    "- session_observable_columns: variables that are invariant within a session (e.g. month?)\n",
    "- itemsession_observable_columns: variables that change within a choice set (i.e. the attributes)"
   ]
  },
  {
   "cell_type": "code",
   "execution_count": 63,
   "metadata": {},
   "outputs": [
    {
     "name": "stdout",
     "output_type": "stream",
     "text": [
      "Creating choice dataset from stata format data-frames...\n",
      "Note: choice sets of different sizes found in different purchase records: {'size 4': 'occurrence 505', 'size 3': 'occurrence 380'}\n",
      "Finished Creating Choice Dataset.\n",
      "* purchase record index range: [1 2 3] ... [883 884 885]\n",
      "* Space of 4 items:\n",
      "                   0         1         2       3\n",
      "item name  American  European  Japanese  Korean\n",
      "* Number of purchase records/cases: 885.\n",
      "* Preview of main data frame:\n",
      "      record_id  session_id  consumer_id       car  purchase  gender  \\\n",
      "0             1           1            1  American         1       1   \n",
      "1             1           1            1  Japanese         0       1   \n",
      "2             1           1            1  European         0       1   \n",
      "3             1           1            1    Korean         0       1   \n",
      "4             2           2            2  American         1       1   \n",
      "...         ...         ...          ...       ...       ...     ...   \n",
      "3155        884         884          884  Japanese         1       1   \n",
      "3156        884         884          884  European         0       1   \n",
      "3157        885         885          885  American         1       1   \n",
      "3158        885         885          885  Japanese         0       1   \n",
      "3159        885         885          885  European         0       1   \n",
      "\n",
      "         income  speed  discount  price  \n",
      "0     46.699997     10      0.94     90  \n",
      "1     46.699997      8      0.94    110  \n",
      "2     46.699997      7      0.94     50  \n",
      "3     46.699997      8      0.94     10  \n",
      "4     26.100000     10      0.95    100  \n",
      "...         ...    ...       ...    ...  \n",
      "3155  20.900000      8      0.89    100  \n",
      "3156  20.900000      7      0.89     40  \n",
      "3157  30.600000     10      0.81    100  \n",
      "3158  30.600000      8      0.81     50  \n",
      "3159  30.600000      7      0.81     40  \n",
      "\n",
      "[3160 rows x 10 columns]\n",
      "* Preview of ChoiceDataset:\n",
      "ChoiceDataset(num_items=4, num_users=885, num_sessions=885, label=[], item_index=[885], user_index=[885], session_index=[885], item_availability=[885, 4], item_speed=[4, 1], user_gender=[885, 1], user_income=[885, 1], session_discount=[885, 1], itemsession_price=[885, 4, 1], device=cpu)\n"
     ]
    },
    {
     "name": "stderr",
     "output_type": "stream",
     "text": [
      "C:\\Users\\steph\\AppData\\Local\\Packages\\PythonSoftwareFoundation.Python.3.11_qbz5n2kfra8p0\\LocalCache\\local-packages\\Python311\\site-packages\\torch_choice\\data\\choice_dataset.py:240: UserWarning: The number of items is inferred from the number of unique items, excluding -1's denoting outside options, in the item_index tensor. This might lead to unexpected behaviors if some items never appeared in the item_index tensor. For a safer behavior, please provide the number of items explicitly by using the num_items keyword while initializing the ChoiceDataset class.\n",
      "  warnings.warn(f\"The number of items is inferred from the number of unique items, excluding -1's denoting outside options, in the item_index tensor. This might lead to unexpected behaviors if some items never appeared in the item_index tensor. For a safer behavior, please provide the number of items explicitly by using the num_items keyword while initializing the ChoiceDataset class.\")\n",
      "C:\\Users\\steph\\AppData\\Local\\Packages\\PythonSoftwareFoundation.Python.3.11_qbz5n2kfra8p0\\LocalCache\\local-packages\\Python311\\site-packages\\torch_choice\\data\\choice_dataset.py:215: UserWarning: The number of users is inferred from the number of unique users in the user_index tensor. This might lead to unexpected behaviors if some users never appeared in the user_index tensor. For a safer behavior, please provide the number of users explicitly by using the num_users keyword while initializing the ChoiceDataset class.\n",
      "  warnings.warn(f\"The number of users is inferred from the number of unique users in the user_index tensor. This might lead to unexpected behaviors if some users never appeared in the user_index tensor. For a safer behavior, please provide the number of users explicitly by using the num_users keyword while initializing the ChoiceDataset class.\")\n",
      "C:\\Users\\steph\\AppData\\Local\\Packages\\PythonSoftwareFoundation.Python.3.11_qbz5n2kfra8p0\\LocalCache\\local-packages\\Python311\\site-packages\\torch_choice\\data\\choice_dataset.py:260: UserWarning: The number of sessions is inferred from the number of unique sessions in the session_index tensor. This might lead to unexpected behaviors if some sessions never appeared in the session_index tensor. For a safer behavior, please provide the number of sessions explicitly by using the num_sessions keyword while initializing the ChoiceDataset class.\n",
      "  warnings.warn(f\"The number of sessions is inferred from the number of unique sessions in the session_index tensor. This might lead to unexpected behaviors if some sessions never appeared in the session_index tensor. For a safer behavior, please provide the number of sessions explicitly by using the num_sessions keyword while initializing the ChoiceDataset class.\")\n"
     ]
    }
   ],
   "source": [
    "data_wrapper_from_columns = EasyDatasetWrapper(\n",
    "    main_data = car_choice,\n",
    "    purchase_record_column = 'record_id',\n",
    "    choice_column = 'purchase',\n",
    "    item_name_column = 'car',\n",
    "    user_index_column = 'consumer_id',\n",
    "    session_index_column = 'session_id',\n",
    "    user_observable_columns = ['gender', 'income'],\n",
    "    item_observable_columns = ['speed'],\n",
    "    session_observable_columns = ['discount'],\n",
    "    itemsession_observable_columns = ['price'],\n",
    "    device = device)\n",
    "\n",
    "data_wrapper_from_columns.summary()"
   ]
  },
  {
   "cell_type": "code",
   "execution_count": 65,
   "metadata": {},
   "outputs": [],
   "source": [
    "car_data = data_wrapper_from_columns.choice_dataset"
   ]
  },
  {
   "cell_type": "code",
   "execution_count": 67,
   "metadata": {},
   "outputs": [
    {
     "name": "stderr",
     "output_type": "stream",
     "text": [
      "C:\\Users\\steph\\AppData\\Local\\Packages\\PythonSoftwareFoundation.Python.3.11_qbz5n2kfra8p0\\LocalCache\\local-packages\\Python311\\site-packages\\torch_choice\\data\\choice_dataset.py:240: UserWarning: The number of items is inferred from the number of unique items, excluding -1's denoting outside options, in the item_index tensor. This might lead to unexpected behaviors if some items never appeared in the item_index tensor. For a safer behavior, please provide the number of items explicitly by using the num_items keyword while initializing the ChoiceDataset class.\n",
      "  warnings.warn(f\"The number of items is inferred from the number of unique items, excluding -1's denoting outside options, in the item_index tensor. This might lead to unexpected behaviors if some items never appeared in the item_index tensor. For a safer behavior, please provide the number of items explicitly by using the num_items keyword while initializing the ChoiceDataset class.\")\n",
      "C:\\Users\\steph\\AppData\\Local\\Packages\\PythonSoftwareFoundation.Python.3.11_qbz5n2kfra8p0\\LocalCache\\local-packages\\Python311\\site-packages\\torch_choice\\data\\choice_dataset.py:215: UserWarning: The number of users is inferred from the number of unique users in the user_index tensor. This might lead to unexpected behaviors if some users never appeared in the user_index tensor. For a safer behavior, please provide the number of users explicitly by using the num_users keyword while initializing the ChoiceDataset class.\n",
      "  warnings.warn(f\"The number of users is inferred from the number of unique users in the user_index tensor. This might lead to unexpected behaviors if some users never appeared in the user_index tensor. For a safer behavior, please provide the number of users explicitly by using the num_users keyword while initializing the ChoiceDataset class.\")\n",
      "C:\\Users\\steph\\AppData\\Local\\Packages\\PythonSoftwareFoundation.Python.3.11_qbz5n2kfra8p0\\LocalCache\\local-packages\\Python311\\site-packages\\torch_choice\\data\\choice_dataset.py:260: UserWarning: The number of sessions is inferred from the number of unique sessions in the session_index tensor. This might lead to unexpected behaviors if some sessions never appeared in the session_index tensor. For a safer behavior, please provide the number of sessions explicitly by using the num_sessions keyword while initializing the ChoiceDataset class.\n",
      "  warnings.warn(f\"The number of sessions is inferred from the number of unique sessions in the session_index tensor. This might lead to unexpected behaviors if some sessions never appeared in the session_index tensor. For a safer behavior, please provide the number of sessions explicitly by using the num_sessions keyword while initializing the ChoiceDataset class.\")\n"
     ]
    },
    {
     "data": {
      "text/plain": [
       "ChoiceDataset(num_items=4, num_users=885, num_sessions=885, label=[], item_index=[885], user_index=[885], session_index=[885], item_availability=[885, 4], item_speed=[4, 1], user_gender=[885, 1], user_income=[885, 1], session_discount=[885, 1], itemsession_price=[885, 4, 1], device=cpu)"
      ]
     },
     "execution_count": 67,
     "metadata": {},
     "output_type": "execute_result"
    }
   ],
   "source": [
    "car_data"
   ]
  },
  {
   "cell_type": "code",
   "execution_count": 74,
   "metadata": {},
   "outputs": [],
   "source": [
    "model = ConditionalLogitModel(\n",
    "    formula='(itemsession_price|constant) + (intercept|item)',\n",
    "    dataset=car_data,\n",
    "    num_items=4)"
   ]
  },
  {
   "cell_type": "code",
   "execution_count": 75,
   "metadata": {},
   "outputs": [
    {
     "name": "stderr",
     "output_type": "stream",
     "text": [
      "C:\\Users\\steph\\AppData\\Local\\Packages\\PythonSoftwareFoundation.Python.3.11_qbz5n2kfra8p0\\LocalCache\\local-packages\\Python311\\site-packages\\torch_choice\\data\\choice_dataset.py:215: UserWarning: The number of users is inferred from the number of unique users in the user_index tensor. This might lead to unexpected behaviors if some users never appeared in the user_index tensor. For a safer behavior, please provide the number of users explicitly by using the num_users keyword while initializing the ChoiceDataset class.\n",
      "  warnings.warn(f\"The number of users is inferred from the number of unique users in the user_index tensor. This might lead to unexpected behaviors if some users never appeared in the user_index tensor. For a safer behavior, please provide the number of users explicitly by using the num_users keyword while initializing the ChoiceDataset class.\")\n",
      "C:\\Users\\steph\\AppData\\Local\\Packages\\PythonSoftwareFoundation.Python.3.11_qbz5n2kfra8p0\\LocalCache\\local-packages\\Python311\\site-packages\\torch_choice\\data\\choice_dataset.py:260: UserWarning: The number of sessions is inferred from the number of unique sessions in the session_index tensor. This might lead to unexpected behaviors if some sessions never appeared in the session_index tensor. For a safer behavior, please provide the number of sessions explicitly by using the num_sessions keyword while initializing the ChoiceDataset class.\n",
      "  warnings.warn(f\"The number of sessions is inferred from the number of unique sessions in the session_index tensor. This might lead to unexpected behaviors if some sessions never appeared in the session_index tensor. For a safer behavior, please provide the number of sessions explicitly by using the num_sessions keyword while initializing the ChoiceDataset class.\")\n",
      "GPU available: False, used: False\n",
      "TPU available: False, using: 0 TPU cores\n",
      "HPU available: False, using: 0 HPUs\n"
     ]
    },
    {
     "name": "stdout",
     "output_type": "stream",
     "text": [
      "==================== model received ====================\n",
      "ConditionalLogitModel(\n",
      "  (coef_dict): ModuleDict(\n",
      "    (itemsession_price[constant]): Coefficient(variation=constant, num_items=4, num_users=None, num_params=1, 1 trainable parameters in total, initialization=normal, device=cpu).\n",
      "    (intercept[item]): Coefficient(variation=item, num_items=4, num_users=None, num_params=1, 3 trainable parameters in total, initialization=normal, device=cpu).\n",
      "  )\n",
      ")\n",
      "Conditional logistic discrete choice model, expects input features:\n",
      "\n",
      "X[itemsession_price[constant]] with 1 parameters, with constant level variation.\n",
      "X[intercept[item]] with 1 parameters, with item level variation.\n",
      "device=cpu\n",
      "==================== data set received ====================\n",
      "[Train dataset] ChoiceDataset(num_items=4, num_users=885, num_sessions=885, label=[], item_index=[885], user_index=[885], session_index=[885], item_availability=[885, 4], item_speed=[4, 1], user_gender=[885, 1], user_income=[885, 1], session_discount=[885, 1], itemsession_price=[885, 4, 1], device=cpu)\n",
      "[Validation dataset] None\n",
      "[Test dataset] None\n"
     ]
    },
    {
     "name": "stderr",
     "output_type": "stream",
     "text": [
      "C:\\Users\\steph\\AppData\\Local\\Packages\\PythonSoftwareFoundation.Python.3.11_qbz5n2kfra8p0\\LocalCache\\local-packages\\Python311\\site-packages\\pytorch_lightning\\trainer\\configuration_validator.py:70: You defined a `validation_step` but have no `val_dataloader`. Skipping val loop.\n",
      "\n",
      "  | Name  | Type                  | Params | Mode \n",
      "--------------------------------------------------------\n",
      "0 | model | ConditionalLogitModel | 4      | train\n",
      "--------------------------------------------------------\n",
      "4         Trainable params\n",
      "0         Non-trainable params\n",
      "4         Total params\n",
      "0.000     Total estimated model params size (MB)\n",
      "C:\\Users\\steph\\AppData\\Local\\Packages\\PythonSoftwareFoundation.Python.3.11_qbz5n2kfra8p0\\LocalCache\\local-packages\\Python311\\site-packages\\pytorch_lightning\\trainer\\connectors\\data_connector.py:424: The 'train_dataloader' does not have many workers which may be a bottleneck. Consider increasing the value of the `num_workers` argument` to `num_workers=15` in the `DataLoader` to improve performance.\n",
      "C:\\Users\\steph\\AppData\\Local\\Packages\\PythonSoftwareFoundation.Python.3.11_qbz5n2kfra8p0\\LocalCache\\local-packages\\Python311\\site-packages\\pytorch_lightning\\loops\\fit_loop.py:298: The number of training batches (1) is smaller than the logging interval Trainer(log_every_n_steps=5). Set a lower value for log_every_n_steps if you want to see logs for the training epoch.\n"
     ]
    },
    {
     "name": "stdout",
     "output_type": "stream",
     "text": [
      "Epoch 499: 100%|██████████| 1/1 [00:00<00:00, 13.06it/s, v_num=7]"
     ]
    },
    {
     "name": "stderr",
     "output_type": "stream",
     "text": [
      "`Trainer.fit` stopped: `max_epochs=500` reached.\n"
     ]
    },
    {
     "name": "stdout",
     "output_type": "stream",
     "text": [
      "Epoch 499: 100%|██████████| 1/1 [00:00<00:00, 12.89it/s, v_num=7]\n",
      "Time taken for training: 28.415333032608032\n",
      "Skip testing, no test dataset is provided.\n",
      "==================== model results ====================\n",
      "Log-likelihood: [Training] nan, [Validation] N/A, [Test] N/A\n",
      "\n",
      "| Coefficient                   |   Estimation |   Std. Err. |   z-value |   Pr(>|z|) | Significance   |\n",
      "|:------------------------------|-------------:|------------:|----------:|-----------:|:---------------|\n",
      "| itemsession_price[constant]_0 |          nan |         nan |       nan |        nan |                |\n",
      "| intercept[item]_0             |          nan |         nan |       nan |        nan |                |\n",
      "| intercept[item]_1             |          nan |         nan |       nan |        nan |                |\n",
      "| intercept[item]_2             |          nan |         nan |       nan |        nan |                |\n",
      "Significance codes: 0 '***' 0.001 '**' 0.01 '*' 0.05 '.' 0.1 ' ' 1\n"
     ]
    },
    {
     "name": "stderr",
     "output_type": "stream",
     "text": [
      "C:\\Users\\steph\\AppData\\Local\\Packages\\PythonSoftwareFoundation.Python.3.11_qbz5n2kfra8p0\\LocalCache\\local-packages\\Python311\\site-packages\\torch_choice\\data\\choice_dataset.py:240: UserWarning: The number of items is inferred from the number of unique items, excluding -1's denoting outside options, in the item_index tensor. This might lead to unexpected behaviors if some items never appeared in the item_index tensor. For a safer behavior, please provide the number of items explicitly by using the num_items keyword while initializing the ChoiceDataset class.\n",
      "  warnings.warn(f\"The number of items is inferred from the number of unique items, excluding -1's denoting outside options, in the item_index tensor. This might lead to unexpected behaviors if some items never appeared in the item_index tensor. For a safer behavior, please provide the number of items explicitly by using the num_items keyword while initializing the ChoiceDataset class.\")\n"
     ]
    },
    {
     "data": {
      "text/plain": [
       "ConditionalLogitModel(\n",
       "  (coef_dict): ModuleDict(\n",
       "    (itemsession_price[constant]): Coefficient(variation=constant, num_items=4, num_users=None, num_params=1, 1 trainable parameters in total, initialization=normal, device=cpu).\n",
       "    (intercept[item]): Coefficient(variation=item, num_items=4, num_users=None, num_params=1, 3 trainable parameters in total, initialization=normal, device=cpu).\n",
       "  )\n",
       ")\n",
       "Conditional logistic discrete choice model, expects input features:\n",
       "\n",
       "X[itemsession_price[constant]] with 1 parameters, with constant level variation.\n",
       "X[intercept[item]] with 1 parameters, with item level variation.\n",
       "device=cpu"
      ]
     },
     "execution_count": 75,
     "metadata": {},
     "output_type": "execute_result"
    }
   ],
   "source": [
    "run(model, car_data, num_epochs=500, learning_rate=0.01, model_optimizer=\"LBFGS\", batch_size=-1)\n"
   ]
  },
  {
   "cell_type": "code",
   "execution_count": 40,
   "metadata": {},
   "outputs": [
    {
     "name": "stdout",
     "output_type": "stream",
     "text": [
      "No `session_index` is provided, assume each choice instance is in its own session.\n"
     ]
    }
   ],
   "source": [
    "from torch_choice.model import ConditionalLogitModel\n",
    "from torch_choice import run\n",
    "dataset = load_mode_canada_dataset()"
   ]
  },
  {
   "cell_type": "code",
   "execution_count": 41,
   "metadata": {},
   "outputs": [
    {
     "name": "stdout",
     "output_type": "stream",
     "text": [
      "ChoiceDataset with 2779 sessions, 4 items, single users, 2779 purchase records (observations) .\n",
      "The most frequent item is 2, it was chosen 1267 times; the least frequent item is 1 it was 10 times; on average, each item was purchased 694.75 times.\n",
      "4 most frequent items are: 2(1267 times), 0(1039 times), 3(463 times), 1(10 times).\n",
      "4 least frequent items are: 1(10 times), 3(463 times), 0(1039 times), 2(1267 times).\n",
      "Attribute Summaries:\n",
      "Observable Tensor 'itemsession_cost_freq_ovt' with shape torch.Size([2779, 4, 3])\n",
      "Observable Tensor 'session_income' with shape torch.Size([2779, 1])\n",
      "                 0\n",
      "count  2779.000000\n",
      "mean     54.519611\n",
      "std      17.514179\n",
      "min       5.000000\n",
      "25%      45.000000\n",
      "50%      55.000000\n",
      "75%      70.000000\n",
      "max      70.000000\n",
      "Observable Tensor 'itemsession_ivt' with shape torch.Size([2779, 4, 1])\n",
      "device=cpu\n"
     ]
    },
    {
     "name": "stderr",
     "output_type": "stream",
     "text": [
      "C:\\Users\\steph\\AppData\\Local\\Packages\\PythonSoftwareFoundation.Python.3.11_qbz5n2kfra8p0\\LocalCache\\local-packages\\Python311\\site-packages\\torch_choice\\data\\choice_dataset.py:260: UserWarning: The number of sessions is inferred from the number of unique sessions in the session_index tensor. This might lead to unexpected behaviors if some sessions never appeared in the session_index tensor. For a safer behavior, please provide the number of sessions explicitly by using the num_sessions keyword while initializing the ChoiceDataset class.\n",
      "  warnings.warn(f\"The number of sessions is inferred from the number of unique sessions in the session_index tensor. This might lead to unexpected behaviors if some sessions never appeared in the session_index tensor. For a safer behavior, please provide the number of sessions explicitly by using the num_sessions keyword while initializing the ChoiceDataset class.\")\n",
      "C:\\Users\\steph\\AppData\\Local\\Packages\\PythonSoftwareFoundation.Python.3.11_qbz5n2kfra8p0\\LocalCache\\local-packages\\Python311\\site-packages\\torch_choice\\data\\choice_dataset.py:240: UserWarning: The number of items is inferred from the number of unique items, excluding -1's denoting outside options, in the item_index tensor. This might lead to unexpected behaviors if some items never appeared in the item_index tensor. For a safer behavior, please provide the number of items explicitly by using the num_items keyword while initializing the ChoiceDataset class.\n",
      "  warnings.warn(f\"The number of items is inferred from the number of unique items, excluding -1's denoting outside options, in the item_index tensor. This might lead to unexpected behaviors if some items never appeared in the item_index tensor. For a safer behavior, please provide the number of items explicitly by using the num_items keyword while initializing the ChoiceDataset class.\")\n"
     ]
    }
   ],
   "source": [
    "dataset.summary()"
   ]
  },
  {
   "cell_type": "code",
   "execution_count": 47,
   "metadata": {},
   "outputs": [
    {
     "data": {
      "text/plain": [
       "{'label': None,\n",
       " 'item_index': tensor([0, 0, 0,  ..., 2, 2, 2]),\n",
       " '_num_items': None,\n",
       " '_num_users': None,\n",
       " '_num_sessions': None,\n",
       " 'user_index': None,\n",
       " 'session_index': tensor([   0,    1,    2,  ..., 2776, 2777, 2778]),\n",
       " 'item_availability': None,\n",
       " 'itemsession_cost_freq_ovt': tensor([[[142.8000,   9.0000,  85.0000],\n",
       "          [ 27.5200,   8.0000,  63.0000],\n",
       "          [ 71.6300,   0.0000,   0.0000],\n",
       "          [ 58.2500,   4.0000,  74.0000]],\n",
       " \n",
       "         [[142.8000,   9.0000,  85.0000],\n",
       "          [ 27.5200,   8.0000,  63.0000],\n",
       "          [ 71.6300,   0.0000,   0.0000],\n",
       "          [ 58.2500,   4.0000,  74.0000]],\n",
       " \n",
       "         [[142.8000,   9.0000,  85.0000],\n",
       "          [ 27.5200,   8.0000,  63.0000],\n",
       "          [ 71.6300,   0.0000,   0.0000],\n",
       "          [ 58.2500,   4.0000,  74.0000]],\n",
       " \n",
       "         ...,\n",
       " \n",
       "         [[155.3000,  16.0000, 135.0000],\n",
       "          [ 27.9600,  24.0000, 130.0000],\n",
       "          [ 64.9800,   0.0000,   0.0000],\n",
       "          [ 58.1000,   3.0000, 135.0000]],\n",
       " \n",
       "         [[155.3000,  16.0000, 135.0000],\n",
       "          [ 27.9600,  24.0000, 130.0000],\n",
       "          [ 64.9800,   0.0000,   0.0000],\n",
       "          [ 58.1000,   3.0000, 135.0000]],\n",
       " \n",
       "         [[155.3000,  16.0000, 115.0000],\n",
       "          [ 27.9600,  24.0000, 140.0000],\n",
       "          [ 73.7200,   0.0000,   0.0000],\n",
       "          [ 58.6000,   3.0000, 145.0000]]]),\n",
       " 'session_income': tensor([[45.],\n",
       "         [70.],\n",
       "         [35.],\n",
       "         ...,\n",
       "         [15.],\n",
       "         [35.],\n",
       "         [45.]]),\n",
       " 'itemsession_ivt': tensor([[[ 56.],\n",
       "          [301.],\n",
       "          [262.],\n",
       "          [215.]],\n",
       " \n",
       "         [[ 56.],\n",
       "          [301.],\n",
       "          [262.],\n",
       "          [215.]],\n",
       " \n",
       "         [[ 56.],\n",
       "          [301.],\n",
       "          [262.],\n",
       "          [215.]],\n",
       " \n",
       "         ...,\n",
       " \n",
       "         [[ 46.],\n",
       "          [186.],\n",
       "          [245.],\n",
       "          [193.]],\n",
       " \n",
       "         [[ 46.],\n",
       "          [186.],\n",
       "          [245.],\n",
       "          [193.]],\n",
       " \n",
       "         [[ 46.],\n",
       "          [186.],\n",
       "          [297.],\n",
       "          [193.]]])}"
      ]
     },
     "execution_count": 47,
     "metadata": {},
     "output_type": "execute_result"
    }
   ],
   "source": [
    "dataset.__dict__"
   ]
  },
  {
   "cell_type": "code",
   "execution_count": 9,
   "metadata": {},
   "outputs": [
    {
     "name": "stderr",
     "output_type": "stream",
     "text": [
      "C:\\Users\\steph\\AppData\\Local\\Packages\\PythonSoftwareFoundation.Python.3.11_qbz5n2kfra8p0\\LocalCache\\local-packages\\Python311\\site-packages\\torch_choice\\data\\choice_dataset.py:240: UserWarning: The number of items is inferred from the number of unique items, excluding -1's denoting outside options, in the item_index tensor. This might lead to unexpected behaviors if some items never appeared in the item_index tensor. For a safer behavior, please provide the number of items explicitly by using the num_items keyword while initializing the ChoiceDataset class.\n",
      "  warnings.warn(f\"The number of items is inferred from the number of unique items, excluding -1's denoting outside options, in the item_index tensor. This might lead to unexpected behaviors if some items never appeared in the item_index tensor. For a safer behavior, please provide the number of items explicitly by using the num_items keyword while initializing the ChoiceDataset class.\")\n",
      "C:\\Users\\steph\\AppData\\Local\\Packages\\PythonSoftwareFoundation.Python.3.11_qbz5n2kfra8p0\\LocalCache\\local-packages\\Python311\\site-packages\\torch_choice\\data\\choice_dataset.py:260: UserWarning: The number of sessions is inferred from the number of unique sessions in the session_index tensor. This might lead to unexpected behaviors if some sessions never appeared in the session_index tensor. For a safer behavior, please provide the number of sessions explicitly by using the num_sessions keyword while initializing the ChoiceDataset class.\n",
      "  warnings.warn(f\"The number of sessions is inferred from the number of unique sessions in the session_index tensor. This might lead to unexpected behaviors if some sessions never appeared in the session_index tensor. For a safer behavior, please provide the number of sessions explicitly by using the num_sessions keyword while initializing the ChoiceDataset class.\")\n",
      "GPU available: False, used: False\n",
      "TPU available: False, using: 0 TPU cores\n",
      "HPU available: False, using: 0 HPUs\n"
     ]
    },
    {
     "name": "stdout",
     "output_type": "stream",
     "text": [
      "No `session_index` is provided, assume each choice instance is in its own session.\n",
      "==================== model received ====================\n",
      "ConditionalLogitModel(\n",
      "  (coef_dict): ModuleDict(\n",
      "    (itemsession_cost_freq_ovt[constant]): Coefficient(variation=constant, num_items=4, num_users=None, num_params=3, 3 trainable parameters in total, initialization=normal, device=cpu).\n",
      "    (session_income[item]): Coefficient(variation=item, num_items=4, num_users=None, num_params=1, 3 trainable parameters in total, initialization=normal, device=cpu).\n",
      "    (itemsession_ivt[item-full]): Coefficient(variation=item-full, num_items=4, num_users=None, num_params=1, 4 trainable parameters in total, initialization=normal, device=cpu).\n",
      "    (intercept[item]): Coefficient(variation=item, num_items=4, num_users=None, num_params=1, 3 trainable parameters in total, initialization=normal, device=cpu).\n",
      "  )\n",
      ")\n",
      "Conditional logistic discrete choice model, expects input features:\n",
      "\n",
      "X[itemsession_cost_freq_ovt[constant]] with 3 parameters, with constant level variation.\n",
      "X[session_income[item]] with 1 parameters, with item level variation.\n",
      "X[itemsession_ivt[item-full]] with 1 parameters, with item-full level variation.\n",
      "X[intercept[item]] with 1 parameters, with item level variation.\n",
      "device=cpu\n",
      "==================== data set received ====================\n",
      "[Train dataset] ChoiceDataset(num_items=4, num_users=1, num_sessions=2779, label=[], item_index=[2779], user_index=[], session_index=[2779], item_availability=[], itemsession_cost_freq_ovt=[2779, 4, 3], session_income=[2779, 1], itemsession_ivt=[2779, 4, 1], device=cpu)\n",
      "[Validation dataset] None\n",
      "[Test dataset] None\n"
     ]
    },
    {
     "name": "stderr",
     "output_type": "stream",
     "text": [
      "C:\\Users\\steph\\AppData\\Local\\Packages\\PythonSoftwareFoundation.Python.3.11_qbz5n2kfra8p0\\LocalCache\\local-packages\\Python311\\site-packages\\pytorch_lightning\\trainer\\configuration_validator.py:70: You defined a `validation_step` but have no `val_dataloader`. Skipping val loop.\n",
      "\n",
      "  | Name  | Type                  | Params | Mode \n",
      "--------------------------------------------------------\n",
      "0 | model | ConditionalLogitModel | 13     | train\n",
      "--------------------------------------------------------\n",
      "13        Trainable params\n",
      "0         Non-trainable params\n",
      "13        Total params\n",
      "0.000     Total estimated model params size (MB)\n",
      "C:\\Users\\steph\\AppData\\Local\\Packages\\PythonSoftwareFoundation.Python.3.11_qbz5n2kfra8p0\\LocalCache\\local-packages\\Python311\\site-packages\\pytorch_lightning\\trainer\\connectors\\data_connector.py:424: The 'train_dataloader' does not have many workers which may be a bottleneck. Consider increasing the value of the `num_workers` argument` to `num_workers=15` in the `DataLoader` to improve performance.\n",
      "C:\\Users\\steph\\AppData\\Local\\Packages\\PythonSoftwareFoundation.Python.3.11_qbz5n2kfra8p0\\LocalCache\\local-packages\\Python311\\site-packages\\pytorch_lightning\\loops\\fit_loop.py:298: The number of training batches (1) is smaller than the logging interval Trainer(log_every_n_steps=5). Set a lower value for log_every_n_steps if you want to see logs for the training epoch.\n"
     ]
    },
    {
     "name": "stdout",
     "output_type": "stream",
     "text": [
      "Epoch 0:   0%|          | 0/1 [00:00<?, ?it/s] "
     ]
    },
    {
     "name": "stderr",
     "output_type": "stream",
     "text": [
      "C:\\Users\\steph\\AppData\\Local\\Packages\\PythonSoftwareFoundation.Python.3.11_qbz5n2kfra8p0\\LocalCache\\local-packages\\Python311\\site-packages\\torch_choice\\data\\choice_dataset.py:240: UserWarning: The number of items is inferred from the number of unique items, excluding -1's denoting outside options, in the item_index tensor. This might lead to unexpected behaviors if some items never appeared in the item_index tensor. For a safer behavior, please provide the number of items explicitly by using the num_items keyword while initializing the ChoiceDataset class.\n",
      "  warnings.warn(f\"The number of items is inferred from the number of unique items, excluding -1's denoting outside options, in the item_index tensor. This might lead to unexpected behaviors if some items never appeared in the item_index tensor. For a safer behavior, please provide the number of items explicitly by using the num_items keyword while initializing the ChoiceDataset class.\")\n",
      "C:\\Users\\steph\\AppData\\Local\\Packages\\PythonSoftwareFoundation.Python.3.11_qbz5n2kfra8p0\\LocalCache\\local-packages\\Python311\\site-packages\\torch_choice\\data\\choice_dataset.py:260: UserWarning: The number of sessions is inferred from the number of unique sessions in the session_index tensor. This might lead to unexpected behaviors if some sessions never appeared in the session_index tensor. For a safer behavior, please provide the number of sessions explicitly by using the num_sessions keyword while initializing the ChoiceDataset class.\n",
      "  warnings.warn(f\"The number of sessions is inferred from the number of unique sessions in the session_index tensor. This might lead to unexpected behaviors if some sessions never appeared in the session_index tensor. For a safer behavior, please provide the number of sessions explicitly by using the num_sessions keyword while initializing the ChoiceDataset class.\")\n"
     ]
    },
    {
     "name": "stdout",
     "output_type": "stream",
     "text": [
      "Epoch 499: 100%|██████████| 1/1 [00:00<00:00, 22.39it/s, v_num=2]"
     ]
    },
    {
     "name": "stderr",
     "output_type": "stream",
     "text": [
      "`Trainer.fit` stopped: `max_epochs=500` reached.\n"
     ]
    },
    {
     "name": "stdout",
     "output_type": "stream",
     "text": [
      "Epoch 499: 100%|██████████| 1/1 [00:00<00:00, 21.24it/s, v_num=2]\n",
      "Time taken for training: 47.50977802276611\n",
      "Skip testing, no test dataset is provided.\n",
      "==================== model results ====================\n",
      "Log-likelihood: [Training] -1874.3446044921875, [Validation] N/A, [Test] N/A\n",
      "\n",
      "| Coefficient                           |   Estimation |   Std. Err. |    z-value |    Pr(>|z|) | Significance   |\n",
      "|:--------------------------------------|-------------:|------------:|-----------:|------------:|:---------------|\n",
      "| itemsession_cost_freq_ovt[constant]_0 |  -0.0335193  |  0.00709538 |  -4.72411  | 2.31125e-06 | ***            |\n",
      "| itemsession_cost_freq_ovt[constant]_1 |   0.0925774  |  0.00509755 |  18.1612   | 0           | ***            |\n",
      "| itemsession_cost_freq_ovt[constant]_2 |  -0.0429614  |  0.00322391 | -13.3259   | 0           | ***            |\n",
      "| session_income[item]_0                |  -0.0885213  |  0.0183422  |  -4.82611  | 1.39227e-06 | ***            |\n",
      "| session_income[item]_1                |  -0.0279529  |  0.00387153 |  -7.2201   | 5.19584e-13 | ***            |\n",
      "| session_income[item]_2                |  -0.0381066  |  0.00408219 |  -9.33485  | 0           | ***            |\n",
      "| itemsession_ivt[item-full]_0          |   0.0595107  |  0.0100733  |   5.90775  | 3.46801e-09 | ***            |\n",
      "| itemsession_ivt[item-full]_1          |  -0.00662846 |  0.00439492 |  -1.50821  | 0.131501    |                |\n",
      "| itemsession_ivt[item-full]_2          |  -0.0064305  |  0.00189826 |  -3.38759  | 0.000705107 | ***            |\n",
      "| itemsession_ivt[item-full]_3          |  -0.00144688 |  0.0011874  |  -1.21852  | 0.223027    |                |\n",
      "| intercept[item]_0                     |   0.623563   |  1.27856    |   0.487706 | 0.625758    |                |\n",
      "| intercept[item]_1                     |   1.82434    |  0.708306   |   2.57564  | 0.0100054   | *              |\n",
      "| intercept[item]_2                     |   3.25504    |  0.624147   |   5.21517  | 1.83646e-07 | ***            |\n",
      "Significance codes: 0 '***' 0.001 '**' 0.01 '*' 0.05 '.' 0.1 ' ' 1\n"
     ]
    },
    {
     "name": "stderr",
     "output_type": "stream",
     "text": [
      "C:\\Users\\steph\\AppData\\Local\\Packages\\PythonSoftwareFoundation.Python.3.11_qbz5n2kfra8p0\\LocalCache\\local-packages\\Python311\\site-packages\\torch_choice\\data\\choice_dataset.py:240: UserWarning: The number of items is inferred from the number of unique items, excluding -1's denoting outside options, in the item_index tensor. This might lead to unexpected behaviors if some items never appeared in the item_index tensor. For a safer behavior, please provide the number of items explicitly by using the num_items keyword while initializing the ChoiceDataset class.\n",
      "  warnings.warn(f\"The number of items is inferred from the number of unique items, excluding -1's denoting outside options, in the item_index tensor. This might lead to unexpected behaviors if some items never appeared in the item_index tensor. For a safer behavior, please provide the number of items explicitly by using the num_items keyword while initializing the ChoiceDataset class.\")\n"
     ]
    },
    {
     "data": {
      "text/plain": [
       "ConditionalLogitModel(\n",
       "  (coef_dict): ModuleDict(\n",
       "    (itemsession_cost_freq_ovt[constant]): Coefficient(variation=constant, num_items=4, num_users=None, num_params=3, 3 trainable parameters in total, initialization=normal, device=cpu).\n",
       "    (session_income[item]): Coefficient(variation=item, num_items=4, num_users=None, num_params=1, 3 trainable parameters in total, initialization=normal, device=cpu).\n",
       "    (itemsession_ivt[item-full]): Coefficient(variation=item-full, num_items=4, num_users=None, num_params=1, 4 trainable parameters in total, initialization=normal, device=cpu).\n",
       "    (intercept[item]): Coefficient(variation=item, num_items=4, num_users=None, num_params=1, 3 trainable parameters in total, initialization=normal, device=cpu).\n",
       "  )\n",
       ")\n",
       "Conditional logistic discrete choice model, expects input features:\n",
       "\n",
       "X[itemsession_cost_freq_ovt[constant]] with 3 parameters, with constant level variation.\n",
       "X[session_income[item]] with 1 parameters, with item level variation.\n",
       "X[itemsession_ivt[item-full]] with 1 parameters, with item-full level variation.\n",
       "X[intercept[item]] with 1 parameters, with item level variation.\n",
       "device=cpu"
      ]
     },
     "execution_count": 9,
     "metadata": {},
     "output_type": "execute_result"
    }
   ],
   "source": [
    "# load Mode Canada transportation dataset\n",
    "model = ConditionalLogitModel(\n",
    "    formula = '(itemsession_cost_freq_ovt | constant ) + ( session_income | item ) + (itemsession_ivt |item - full ) + ( intercept | item )',\n",
    "    dataset = dataset,\n",
    "    num_items = 4)\n",
    "# fit the conditional logit model.\n",
    "run(model, dataset, num_epochs=500, learning_rate=0.003, batch_size=-1, model_optimizer=\"LBFGS\")"
   ]
  }
 ],
 "metadata": {
  "kernelspec": {
   "display_name": "Python 3",
   "language": "python",
   "name": "python3"
  },
  "language_info": {
   "codemirror_mode": {
    "name": "ipython",
    "version": 3
   },
   "file_extension": ".py",
   "mimetype": "text/x-python",
   "name": "python",
   "nbconvert_exporter": "python",
   "pygments_lexer": "ipython3",
   "version": "3.11.9"
  }
 },
 "nbformat": 4,
 "nbformat_minor": 2
}
